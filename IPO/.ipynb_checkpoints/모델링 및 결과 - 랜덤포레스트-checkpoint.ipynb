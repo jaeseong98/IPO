{
 "cells": [
  {
   "cell_type": "code",
   "execution_count": 1,
   "id": "86d116a4",
   "metadata": {},
   "outputs": [],
   "source": [
    "import warnings\n",
    "warnings.filterwarnings('ignore')\n",
    "import pandas as pd\n",
    "import numpy as np\n",
    "from dateutil.relativedelta import relativedelta\n",
    "from datetime import datetime\n",
    "from dateutil.parser import parse\n",
    "import copy\n",
    "\n",
    "from imblearn.over_sampling import SMOTE\n",
    "#시각화\n",
    "import matplotlib.pyplot as plt\n",
    "import seaborn as sns\n",
    "\n",
    "\n",
    "from sklearn.model_selection import train_test_split\n",
    "from sklearn.metrics import *\n",
    "\n",
    "##알고리즘 \n",
    "from sklearn.ensemble import RandomForestClassifier\n",
    "from xgboost import XGBClassifier\n",
    "\n",
    "## 모듈 및 함수 가져오기\n",
    "from Module.Preprocessing import *\n",
    "from Module.Model import *"
   ]
  },
  {
   "cell_type": "markdown",
   "id": "7e003447",
   "metadata": {},
   "source": [
    "# 데이터 불러오기"
   ]
  },
  {
   "cell_type": "code",
   "execution_count": 2,
   "id": "c5cbeabc",
   "metadata": {},
   "outputs": [],
   "source": [
    "df_1_3 = pd.read_csv(\"CleanData/X_train_After_IPO_1.csv\",encoding = \"cp949\")\n",
    "df_3_6 = pd.read_csv(\"CleanData/X_train_After_IPO_3.csv\",encoding = \"cp949\")\n",
    "df_0 = pd.read_csv(\"CleanData/X_train_Before_IPO.csv\",encoding = \"cp949\")\n",
    "df_end = pd.read_csv(\"CleanData/X_train_EndPrice_IPO.csv\",encoding = \"cp949\")"
   ]
  },
  {
   "cell_type": "code",
   "execution_count": 3,
   "id": "0c3c42ec",
   "metadata": {},
   "outputs": [],
   "source": [
    "df_0_1 = df_0.drop(['공모가 대비 3개월 수익률','공모가 대비 6개월 수익률'],axis =1)\n",
    "df_0_3 = df_0.drop(['공모가 대비 1개월 수익률','공모가 대비 6개월 수익률'],axis =1)\n",
    "df_0_6 = df_0.drop(['공모가 대비 1개월 수익률','공모가 대비 3개월 수익률'],axis =1)"
   ]
  },
  {
   "cell_type": "code",
   "execution_count": 4,
   "id": "eabe84cf",
   "metadata": {},
   "outputs": [],
   "source": [
    "df_end_1 = df_end.drop(['종가 대비 3개월 수익률','종가 대비 6개월 수익률'],axis =1)\n",
    "df_end_3 = df_end.drop(['종가 대비 1개월 수익률','종가 대비 6개월 수익률'],axis =1)\n",
    "df_end_6 = df_end.drop(['종가 대비 1개월 수익률','종가 대비 3개월 수익률'],axis =1)"
   ]
  },
  {
   "cell_type": "markdown",
   "id": "3acb5a17",
   "metadata": {},
   "source": [
    "# 공통 전처리 및 랜덤포레스트\n",
    "> process_final = 랜덤포레스트를 이용한 모델링 및 결과분석 \n",
    "- train 4년 test1년으로 구분하여 32개의 데이터 셋 생성 후 오버샘플링을 이용\n",
    "- score = 종속변수 별 모델들의 평가성과\n",
    "- feature = 종속변수 별 모델들의 독립변수 feature importance 값\n",
    "- y_data = 수익률 계산을 위한 실제 y 수익률 , 실제 y 라벨링 , 예측 y 라벨링\n",
    "\n"
   ]
  },
  {
   "cell_type": "code",
   "execution_count": 5,
   "id": "3c08a1a0",
   "metadata": {},
   "outputs": [],
   "source": [
    "df_score_0_1,df_feature_0_1,y_data_0_1 = process_final(df_0_1,'공모가 대비 1개월 수익률')\n",
    "df_score_0_3,df_feature_0_3,y_data_0_3 = process_final(df_0_3,'공모가 대비 3개월 수익률')\n",
    "df_score_0_6,df_feature_0_6,y_data_0_6 = process_final(df_0_6,'공모가 대비 6개월 수익률')\n",
    "df_score_1_3,df_feature_1_3,y_data_1_3 = process_final(df_1_3,'1_3_수익률')\n",
    "df_score_3_6,df_feature_3_6,y_data_3_6 = process_final(df_3_6,'3_6_수익률')\n",
    "df_score_end_1,df_feature_end_1,y_data_end_1 = process_final(df_end_1,'종가 대비 1개월 수익률')\n",
    "df_score_end_3,df_feature_end_3,y_data_end_3 = process_final(df_end_3,'종가 대비 3개월 수익률')\n",
    "df_score_end_6,df_feature_end_6,y_data_end_6 = process_final(df_end_6,'종가 대비 6개월 수익률')"
   ]
  },
  {
   "cell_type": "markdown",
   "id": "38f0afd6",
   "metadata": {},
   "source": [
    "## 결과값 저장"
   ]
  },
  {
   "cell_type": "code",
   "execution_count": 78,
   "id": "1694e7a2",
   "metadata": {},
   "outputs": [],
   "source": [
    "## 모델 평가 점수\n",
    "df_score_0_1.to_csv(\"Result/랜덤포레스트/모델 평가/0_1_모델 평가.csv\",encoding = 'euc-kr')\n",
    "df_score_0_3.to_csv(\"Result/랜덤포레스트/모델 평가/0_3_모델 평가.csv\",encoding = 'euc-kr')\n",
    "df_score_0_6.to_csv(\"Result/랜덤포레스트/모델 평가/0_6_모델 평가.csv\",encoding = 'euc-kr')\n",
    "df_score_1_3.to_csv(\"Result/랜덤포레스트/모델 평가/1_3_모델 평가.csv\",encoding = 'euc-kr')\n",
    "df_score_3_6.to_csv(\"Result/랜덤포레스트/모델 평가/3_6_모델 평가.csv\",encoding = 'euc-kr')\n",
    "df_score_end_1.to_csv(\"Result/랜덤포레스트/모델 평가/end_1_모델 평가.csv\",encoding = 'euc-kr')\n",
    "df_score_end_3.to_csv(\"Result/랜덤포레스트/모델 평가/end_3_모델 평가.csv\",encoding = 'euc-kr')\n",
    "df_score_end_6.to_csv(\"Result/랜덤포레스트/모델 평가/end_6_모델 평가.csv\",encoding = 'euc-kr')"
   ]
  },
  {
   "cell_type": "code",
   "execution_count": 79,
   "id": "6790bf8c",
   "metadata": {},
   "outputs": [],
   "source": [
    "## feature 값\n",
    "df_feature_0_1.to_csv(\"Result/랜덤포레스트/feature 값/0_1_feature 값.csv\",encoding = 'euc-kr')\n",
    "df_feature_0_3.to_csv(\"Result/랜덤포레스트/feature 값/0_3_feature 값.csv\",encoding = 'euc-kr')\n",
    "df_feature_0_6.to_csv(\"Result/랜덤포레스트/feature 값/0_6_feature 값.csv\",encoding = 'euc-kr')\n",
    "df_feature_1_3.to_csv(\"Result/랜덤포레스트/feature 값/1_3_feature 값.csv\",encoding = 'euc-kr')\n",
    "df_feature_3_6.to_csv(\"Result/랜덤포레스트/feature 값/3_6_feature 값.csv\",encoding = 'euc-kr')\n",
    "df_feature_end_1.to_csv(\"Result/랜덤포레스트/feature 값/end_1_feature 값.csv\",encoding = 'euc-kr')\n",
    "df_feature_end_3.to_csv(\"Result/랜덤포레스트/feature 값/end_3_feature 값.csv\",encoding = 'euc-kr')\n",
    "df_feature_end_6.to_csv(\"Result/랜덤포레스트/feature 값/end_6_feature 값.csv\",encoding = 'euc-kr')"
   ]
  },
  {
   "cell_type": "code",
   "execution_count": 80,
   "id": "56125d83",
   "metadata": {},
   "outputs": [],
   "source": [
    "## 종속변수 수익률\n",
    "frame(y_data_0_1).to_csv(\"Result/랜덤포레스트/종속변수 수익률/0_1_수익률.csv\",encoding = 'euc-kr')\n",
    "frame(y_data_0_3).to_csv(\"Result/랜덤포레스트/종속변수 수익률/0_3_수익률.csv\",encoding = 'euc-kr')\n",
    "frame(y_data_0_6).to_csv(\"Result/랜덤포레스트/종속변수 수익률/0_6_수익률.csv\",encoding = 'euc-kr')\n",
    "frame(y_data_1_3).to_csv(\"Result/랜덤포레스트/종속변수 수익률/1_3_수익률.csv\",encoding = 'euc-kr')\n",
    "frame(y_data_3_6).to_csv(\"Result/랜덤포레스트/종속변수 수익률/3_6_수익률.csv\",encoding = 'euc-kr')\n",
    "frame(y_data_end_1).to_csv(\"Result/랜덤포레스트/종속변수 수익률/end_1_수익률.csv\",encoding = 'euc-kr')\n",
    "frame(y_data_end_3).to_csv(\"Result/랜덤포레스트/종속변수 수익률/end_3_수익률.csv\",encoding = 'euc-kr')\n",
    "frame(y_data_end_6).to_csv(\"Result/랜덤포레스트/종속변수 수익률/end_6_수익률.csv\",encoding = 'euc-kr')"
   ]
  },
  {
   "cell_type": "markdown",
   "id": "750fb2f5",
   "metadata": {},
   "source": [
    "## 종속변수 별 수익률 평균 계산"
   ]
  },
  {
   "cell_type": "code",
   "execution_count": 9,
   "id": "33936aa0",
   "metadata": {},
   "outputs": [
    {
     "data": {
      "text/html": [
       "<div>\n",
       "<style scoped>\n",
       "    .dataframe tbody tr th:only-of-type {\n",
       "        vertical-align: middle;\n",
       "    }\n",
       "\n",
       "    .dataframe tbody tr th {\n",
       "        vertical-align: top;\n",
       "    }\n",
       "\n",
       "    .dataframe thead th {\n",
       "        text-align: right;\n",
       "    }\n",
       "</style>\n",
       "<table border=\"1\" class=\"dataframe\">\n",
       "  <thead>\n",
       "    <tr style=\"text-align: right;\">\n",
       "      <th></th>\n",
       "      <th>공모가 대비 1개월</th>\n",
       "      <th>공모가 대비 3개월</th>\n",
       "      <th>공모가 대비 6개월</th>\n",
       "      <th>1개월 대비 3개월</th>\n",
       "      <th>3개월 대비 6개월</th>\n",
       "      <th>종가 대비 1개월</th>\n",
       "      <th>종가 대비 3개월</th>\n",
       "      <th>종가 대비 6개월</th>\n",
       "    </tr>\n",
       "  </thead>\n",
       "  <tbody>\n",
       "    <tr>\n",
       "      <th>buy_sell수익률</th>\n",
       "      <td>0.233175</td>\n",
       "      <td>0.203471</td>\n",
       "      <td>0.231955</td>\n",
       "      <td>0.014321</td>\n",
       "      <td>0.074107</td>\n",
       "      <td>-0.002836</td>\n",
       "      <td>0.016239</td>\n",
       "      <td>0.058852</td>\n",
       "    </tr>\n",
       "    <tr>\n",
       "      <th>buy수익률</th>\n",
       "      <td>0.350486</td>\n",
       "      <td>0.348916</td>\n",
       "      <td>0.393882</td>\n",
       "      <td>0.036304</td>\n",
       "      <td>0.091598</td>\n",
       "      <td>-0.025969</td>\n",
       "      <td>0.020621</td>\n",
       "      <td>0.147253</td>\n",
       "    </tr>\n",
       "    <tr>\n",
       "      <th>all수익률</th>\n",
       "      <td>0.324157</td>\n",
       "      <td>0.334694</td>\n",
       "      <td>0.419719</td>\n",
       "      <td>0.032461</td>\n",
       "      <td>0.071989</td>\n",
       "      <td>-0.011650</td>\n",
       "      <td>0.016261</td>\n",
       "      <td>0.086911</td>\n",
       "    </tr>\n",
       "  </tbody>\n",
       "</table>\n",
       "</div>"
      ],
      "text/plain": [
       "             공모가 대비 1개월  공모가 대비 3개월  공모가 대비 6개월  1개월 대비 3개월  3개월 대비 6개월  \\\n",
       "buy_sell수익률    0.233175    0.203471    0.231955    0.014321    0.074107   \n",
       "buy수익률         0.350486    0.348916    0.393882    0.036304    0.091598   \n",
       "all수익률         0.324157    0.334694    0.419719    0.032461    0.071989   \n",
       "\n",
       "             종가 대비 1개월  종가 대비 3개월  종가 대비 6개월  \n",
       "buy_sell수익률  -0.002836   0.016239   0.058852  \n",
       "buy수익률       -0.025969   0.020621   0.147253  \n",
       "all수익률       -0.011650   0.016261   0.086911  "
      ]
     },
     "execution_count": 9,
     "metadata": {},
     "output_type": "execute_result"
    }
   ],
   "source": [
    "return_ex = pd.concat([frame(y_data_0_1),frame(y_data_0_3),frame(y_data_0_6),frame(y_data_1_3),frame(y_data_3_6),frame(y_data_end_1),frame(y_data_end_3),frame(y_data_end_6)],axis= 1)\n",
    "ret = return_ex[\"mean\"]\n",
    "name = ['공모가 대비 1개월']+ ['공모가 대비 3개월']+ ['공모가 대비 6개월'] + ['1개월 대비 3개월']  + [\"3개월 대비 6개월\"]+ [\"종가 대비 1개월\"] +[\"종가 대비 3개월\"] + [\"종가 대비 6개월\"]\n",
    "ret.columns = name \n",
    "ret"
   ]
  },
  {
   "cell_type": "code",
   "execution_count": null,
   "id": "febb57de",
   "metadata": {},
   "outputs": [],
   "source": []
  }
 ],
 "metadata": {
  "kernelspec": {
   "display_name": "Python 3",
   "language": "python",
   "name": "python3"
  },
  "language_info": {
   "codemirror_mode": {
    "name": "ipython",
    "version": 3
   },
   "file_extension": ".py",
   "mimetype": "text/x-python",
   "name": "python",
   "nbconvert_exporter": "python",
   "pygments_lexer": "ipython3",
   "version": "3.6.10"
  },
  "toc": {
   "base_numbering": 1,
   "nav_menu": {},
   "number_sections": true,
   "sideBar": true,
   "skip_h1_title": false,
   "title_cell": "Table of Contents",
   "title_sidebar": "Contents",
   "toc_cell": false,
   "toc_position": {},
   "toc_section_display": true,
   "toc_window_display": false
  }
 },
 "nbformat": 4,
 "nbformat_minor": 5
}
