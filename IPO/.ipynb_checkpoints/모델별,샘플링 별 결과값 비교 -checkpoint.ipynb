{
 "cells": [
  {
   "cell_type": "code",
   "execution_count": 1,
   "id": "3f422e36",
   "metadata": {},
   "outputs": [],
   "source": [
    "import warnings\n",
    "warnings.filterwarnings('ignore')\n",
    "import pandas as pd\n",
    "import numpy as np\n",
    "from dateutil.relativedelta import relativedelta\n",
    "from datetime import datetime\n",
    "from dateutil.parser import parse\n",
    "import copy\n",
    "\n",
    "from imblearn.over_sampling import SMOTE ,RandomOverSampler\n",
    "#시각화\n",
    "import matplotlib.pyplot as plt\n",
    "import seaborn as sns\n",
    "\n",
    "\n",
    "from sklearn.model_selection import train_test_split\n",
    "from sklearn.metrics import *\n",
    "\n",
    "\n",
    "##알고리즘 \n",
    "from sklearn.ensemble import RandomForestClassifier\n",
    "from xgboost import XGBClassifier\n",
    "from lightgbm import LGBMClassifier\n",
    "\n",
    "from Module.Preprocessing import *\n",
    "from Module.Model import *"
   ]
  },
  {
   "cell_type": "markdown",
   "id": "0b8cf38d",
   "metadata": {},
   "source": [
    "# 데이터 불러오기\n",
    "- df_0_1(공모가 대비 1개월 수익률)\n",
    "- df_0_3(공모가 대비 3개월 수익률)\n",
    "- df_0_6(공모가 대비 6개월 수익률)\n",
    "- df_1_3(1_3 수익률 - 1개월 대비 3개월 수익률)\n",
    "- df_3_6(3_6 수익률 - 3개월 대비 6개월 수익률)\n",
    "- df_end_1(종가 대비 1개월 수익률)\n",
    "- df_end_3(종가 대비 3개월 수익률)\n",
    "- df_end_6(종가 대비 6개월 수익률)"
   ]
  },
  {
   "cell_type": "code",
   "execution_count": 2,
   "id": "0fa8b8d8",
   "metadata": {},
   "outputs": [],
   "source": [
    "df_0 = pd.read_csv(\"CleanData/X_train_Before_IPO.csv\",encoding = \"cp949\")"
   ]
  },
  {
   "cell_type": "code",
   "execution_count": 3,
   "id": "80ef224f",
   "metadata": {},
   "outputs": [],
   "source": [
    "df_0_1 = df_0.drop(['공모가 대비 3개월 수익률','공모가 대비 6개월 수익률'],axis =1)"
   ]
  },
  {
   "cell_type": "markdown",
   "id": "047ae751",
   "metadata": {},
   "source": [
    ">공모가 대비 1개월 수익률 데이터를 이용하여 랜덤포레스트와 XGBoost , LGBM 분류 알고리즘을 비교 -> 랜덤포레스트가 가장 과적합이 덜 되었으며 성과 또한 우수하였음\n",
    "이후 오버샘플링 기법인 SMOTE와 Randomoversampling을 비교하여 우수한 SMOTE기법 사용"
   ]
  },
  {
   "cell_type": "markdown",
   "id": "08d73aa6",
   "metadata": {},
   "source": [
    "# 랜덤포레스트 "
   ]
  },
  {
   "cell_type": "code",
   "execution_count": 5,
   "id": "6d942aa1",
   "metadata": {},
   "outputs": [
    {
     "data": {
      "text/plain": [
       "정확도              0.632206\n",
       "정밀도              0.678056\n",
       "재현율              0.762882\n",
       "f1_score         0.643590\n",
       "정확도_test         0.325699\n",
       "정밀도_test         0.480501\n",
       "재현율_test         0.573647\n",
       "f1_score_test    0.308471\n",
       "Name: rlf_mean, dtype: float64"
      ]
     },
     "execution_count": 5,
     "metadata": {},
     "output_type": "execute_result"
    }
   ],
   "source": [
    "df_score_0_1,df_feature_0_1,y_data_0_1 = process_final(df_0_1,'공모가 대비 1개월 수익률')\n",
    "df_score_0_1['rlf_mean'] = df_score_0_1.mean(axis=1)\n",
    "rlf_score = df_score_0_1['rlf_mean']\n",
    "rlf_score"
   ]
  },
  {
   "cell_type": "markdown",
   "id": "fdcf89f9",
   "metadata": {},
   "source": [
    "# xgb"
   ]
  },
  {
   "cell_type": "code",
   "execution_count": 6,
   "id": "0d476086",
   "metadata": {},
   "outputs": [
    {
     "data": {
      "text/plain": [
       "정확도              0.809976\n",
       "정밀도              0.813935\n",
       "재현율              0.899144\n",
       "f1_score         0.815789\n",
       "정확도_test         0.318096\n",
       "정밀도_test         0.457703\n",
       "재현율_test         0.498978\n",
       "f1_score_test    0.308028\n",
       "Name: xgb_mean, dtype: float64"
      ]
     },
     "execution_count": 6,
     "metadata": {},
     "output_type": "execute_result"
    }
   ],
   "source": [
    "df_score_0_1_xgb = process_xgb(df_0_1,'공모가 대비 1개월 수익률')\n",
    "\n",
    "df_score_0_1_xgb['xgb_mean'] = df_score_0_1_xgb.mean(axis=1)\n",
    "\n",
    "xgb_score = df_score_0_1_xgb['xgb_mean']\n",
    "\n",
    "xgb_score"
   ]
  },
  {
   "cell_type": "markdown",
   "id": "61263843",
   "metadata": {},
   "source": [
    "# lgbm"
   ]
  },
  {
   "cell_type": "code",
   "execution_count": 7,
   "id": "6f3f7ceb",
   "metadata": {},
   "outputs": [
    {
     "name": "stdout",
     "output_type": "stream",
     "text": [
      "[LightGBM] [Warning] min_data_in_leaf is set=20, min_child_samples=20 will be ignored. Current value: min_data_in_leaf=20\n",
      "[LightGBM] [Warning] min_data_in_leaf is set=20, min_child_samples=20 will be ignored. Current value: min_data_in_leaf=20\n",
      "[LightGBM] [Warning] min_data_in_leaf is set=20, min_child_samples=20 will be ignored. Current value: min_data_in_leaf=20\n",
      "[LightGBM] [Warning] min_data_in_leaf is set=20, min_child_samples=20 will be ignored. Current value: min_data_in_leaf=20\n",
      "[LightGBM] [Warning] min_data_in_leaf is set=20, min_child_samples=20 will be ignored. Current value: min_data_in_leaf=20\n",
      "[LightGBM] [Warning] min_data_in_leaf is set=20, min_child_samples=20 will be ignored. Current value: min_data_in_leaf=20\n",
      "[LightGBM] [Warning] min_data_in_leaf is set=20, min_child_samples=20 will be ignored. Current value: min_data_in_leaf=20\n",
      "[LightGBM] [Warning] min_data_in_leaf is set=20, min_child_samples=20 will be ignored. Current value: min_data_in_leaf=20\n",
      "[LightGBM] [Warning] min_data_in_leaf is set=20, min_child_samples=20 will be ignored. Current value: min_data_in_leaf=20\n",
      "[LightGBM] [Warning] min_data_in_leaf is set=20, min_child_samples=20 will be ignored. Current value: min_data_in_leaf=20\n",
      "[LightGBM] [Warning] min_data_in_leaf is set=20, min_child_samples=20 will be ignored. Current value: min_data_in_leaf=20\n",
      "[LightGBM] [Warning] min_data_in_leaf is set=20, min_child_samples=20 will be ignored. Current value: min_data_in_leaf=20\n",
      "[LightGBM] [Warning] min_data_in_leaf is set=20, min_child_samples=20 will be ignored. Current value: min_data_in_leaf=20\n",
      "[LightGBM] [Warning] min_data_in_leaf is set=20, min_child_samples=20 will be ignored. Current value: min_data_in_leaf=20\n",
      "[LightGBM] [Warning] min_data_in_leaf is set=20, min_child_samples=20 will be ignored. Current value: min_data_in_leaf=20\n",
      "[LightGBM] [Warning] min_data_in_leaf is set=20, min_child_samples=20 will be ignored. Current value: min_data_in_leaf=20\n",
      "[LightGBM] [Warning] min_data_in_leaf is set=20, min_child_samples=20 will be ignored. Current value: min_data_in_leaf=20\n",
      "[LightGBM] [Warning] min_data_in_leaf is set=20, min_child_samples=20 will be ignored. Current value: min_data_in_leaf=20\n",
      "[LightGBM] [Warning] min_data_in_leaf is set=20, min_child_samples=20 will be ignored. Current value: min_data_in_leaf=20\n",
      "[LightGBM] [Warning] min_data_in_leaf is set=20, min_child_samples=20 will be ignored. Current value: min_data_in_leaf=20\n",
      "[LightGBM] [Warning] min_data_in_leaf is set=20, min_child_samples=20 will be ignored. Current value: min_data_in_leaf=20\n",
      "[LightGBM] [Warning] min_data_in_leaf is set=20, min_child_samples=20 will be ignored. Current value: min_data_in_leaf=20\n",
      "[LightGBM] [Warning] min_data_in_leaf is set=20, min_child_samples=20 will be ignored. Current value: min_data_in_leaf=20\n",
      "[LightGBM] [Warning] min_data_in_leaf is set=20, min_child_samples=20 will be ignored. Current value: min_data_in_leaf=20\n",
      "[LightGBM] [Warning] min_data_in_leaf is set=20, min_child_samples=20 will be ignored. Current value: min_data_in_leaf=20\n",
      "[LightGBM] [Warning] min_data_in_leaf is set=20, min_child_samples=20 will be ignored. Current value: min_data_in_leaf=20\n",
      "[LightGBM] [Warning] min_data_in_leaf is set=20, min_child_samples=20 will be ignored. Current value: min_data_in_leaf=20\n",
      "[LightGBM] [Warning] min_data_in_leaf is set=20, min_child_samples=20 will be ignored. Current value: min_data_in_leaf=20\n",
      "[LightGBM] [Warning] min_data_in_leaf is set=20, min_child_samples=20 will be ignored. Current value: min_data_in_leaf=20\n",
      "[LightGBM] [Warning] min_data_in_leaf is set=20, min_child_samples=20 will be ignored. Current value: min_data_in_leaf=20\n",
      "[LightGBM] [Warning] min_data_in_leaf is set=20, min_child_samples=20 will be ignored. Current value: min_data_in_leaf=20\n",
      "[LightGBM] [Warning] min_data_in_leaf is set=20, min_child_samples=20 will be ignored. Current value: min_data_in_leaf=20\n"
     ]
    }
   ],
   "source": [
    "df_score_0_1_lgbm = process_lgbm(df_0_1,'공모가 대비 1개월 수익률')\n",
    "\n",
    "df_score_0_1_lgbm.mean(axis=1)\n",
    "df_score_0_1_lgbm['lgbm_mean'] = df_score_0_1_lgbm.mean(axis=1)\n",
    "lgbm_score = df_score_0_1_lgbm['lgbm_mean']"
   ]
  },
  {
   "cell_type": "markdown",
   "id": "53a7f216",
   "metadata": {},
   "source": [
    "# 결과값\n",
    "- 위의 4개는 Train 데이터에 대한 평과 성과 (낮을수록 과적합이 덜 되었다고 판단) Randomforest > xgboost > lgbm 순\n",
    "- 밑의 test 데이터에 대해서도 랜덤포레스트가 제일 성과가 우수함"
   ]
  },
  {
   "cell_type": "code",
   "execution_count": 8,
   "id": "4e23ecbc",
   "metadata": {},
   "outputs": [],
   "source": [
    "df = pd.concat([rlf_score,xgb_score,lgbm_score],axis=1)"
   ]
  },
  {
   "cell_type": "code",
   "execution_count": 9,
   "id": "bd32615f",
   "metadata": {
    "scrolled": true
   },
   "outputs": [
    {
     "data": {
      "text/html": [
       "<div>\n",
       "<style scoped>\n",
       "    .dataframe tbody tr th:only-of-type {\n",
       "        vertical-align: middle;\n",
       "    }\n",
       "\n",
       "    .dataframe tbody tr th {\n",
       "        vertical-align: top;\n",
       "    }\n",
       "\n",
       "    .dataframe thead th {\n",
       "        text-align: right;\n",
       "    }\n",
       "</style>\n",
       "<table border=\"1\" class=\"dataframe\">\n",
       "  <thead>\n",
       "    <tr style=\"text-align: right;\">\n",
       "      <th></th>\n",
       "      <th>rlf_mean</th>\n",
       "      <th>xgb_mean</th>\n",
       "      <th>lgbm_mean</th>\n",
       "    </tr>\n",
       "  </thead>\n",
       "  <tbody>\n",
       "    <tr>\n",
       "      <th>정확도</th>\n",
       "      <td>0.632206</td>\n",
       "      <td>0.809976</td>\n",
       "      <td>0.936390</td>\n",
       "    </tr>\n",
       "    <tr>\n",
       "      <th>정밀도</th>\n",
       "      <td>0.678056</td>\n",
       "      <td>0.813935</td>\n",
       "      <td>0.942048</td>\n",
       "    </tr>\n",
       "    <tr>\n",
       "      <th>재현율</th>\n",
       "      <td>0.762882</td>\n",
       "      <td>0.899144</td>\n",
       "      <td>0.945862</td>\n",
       "    </tr>\n",
       "    <tr>\n",
       "      <th>f1_score</th>\n",
       "      <td>0.643590</td>\n",
       "      <td>0.815789</td>\n",
       "      <td>0.936847</td>\n",
       "    </tr>\n",
       "    <tr>\n",
       "      <th>정확도_test</th>\n",
       "      <td>0.325699</td>\n",
       "      <td>0.318096</td>\n",
       "      <td>0.325616</td>\n",
       "    </tr>\n",
       "    <tr>\n",
       "      <th>정밀도_test</th>\n",
       "      <td>0.480501</td>\n",
       "      <td>0.457703</td>\n",
       "      <td>0.421926</td>\n",
       "    </tr>\n",
       "    <tr>\n",
       "      <th>재현율_test</th>\n",
       "      <td>0.573647</td>\n",
       "      <td>0.498978</td>\n",
       "      <td>0.476593</td>\n",
       "    </tr>\n",
       "    <tr>\n",
       "      <th>f1_score_test</th>\n",
       "      <td>0.308471</td>\n",
       "      <td>0.308028</td>\n",
       "      <td>0.299252</td>\n",
       "    </tr>\n",
       "  </tbody>\n",
       "</table>\n",
       "</div>"
      ],
      "text/plain": [
       "               rlf_mean  xgb_mean  lgbm_mean\n",
       "정확도            0.632206  0.809976   0.936390\n",
       "정밀도            0.678056  0.813935   0.942048\n",
       "재현율            0.762882  0.899144   0.945862\n",
       "f1_score       0.643590  0.815789   0.936847\n",
       "정확도_test       0.325699  0.318096   0.325616\n",
       "정밀도_test       0.480501  0.457703   0.421926\n",
       "재현율_test       0.573647  0.498978   0.476593\n",
       "f1_score_test  0.308471  0.308028   0.299252"
      ]
     },
     "execution_count": 9,
     "metadata": {},
     "output_type": "execute_result"
    }
   ],
   "source": [
    "df"
   ]
  },
  {
   "cell_type": "code",
   "execution_count": 10,
   "id": "7805c8c9",
   "metadata": {},
   "outputs": [],
   "source": [
    "# df.to_csv(\"모델별 평가지표 비교.csv\",encoding = 'euc-kr')"
   ]
  },
  {
   "cell_type": "markdown",
   "id": "7323f417",
   "metadata": {},
   "source": [
    "## SMOTE VS ROS\n",
    "- SMOTE 기법이 Train, test 에서 둘 다 randomoversample 기법보다 성과가 우수"
   ]
  },
  {
   "cell_type": "code",
   "execution_count": 12,
   "id": "535ea32c",
   "metadata": {},
   "outputs": [
    {
     "data": {
      "text/html": [
       "<div>\n",
       "<style scoped>\n",
       "    .dataframe tbody tr th:only-of-type {\n",
       "        vertical-align: middle;\n",
       "    }\n",
       "\n",
       "    .dataframe tbody tr th {\n",
       "        vertical-align: top;\n",
       "    }\n",
       "\n",
       "    .dataframe thead th {\n",
       "        text-align: right;\n",
       "    }\n",
       "</style>\n",
       "<table border=\"1\" class=\"dataframe\">\n",
       "  <thead>\n",
       "    <tr style=\"text-align: right;\">\n",
       "      <th></th>\n",
       "      <th>smote_mean</th>\n",
       "      <th>ros_mean</th>\n",
       "    </tr>\n",
       "  </thead>\n",
       "  <tbody>\n",
       "    <tr>\n",
       "      <th>정확도</th>\n",
       "      <td>0.632206</td>\n",
       "      <td>0.663531</td>\n",
       "    </tr>\n",
       "    <tr>\n",
       "      <th>정밀도</th>\n",
       "      <td>0.678056</td>\n",
       "      <td>0.699402</td>\n",
       "    </tr>\n",
       "    <tr>\n",
       "      <th>재현율</th>\n",
       "      <td>0.762882</td>\n",
       "      <td>0.792774</td>\n",
       "    </tr>\n",
       "    <tr>\n",
       "      <th>f1_score</th>\n",
       "      <td>0.643590</td>\n",
       "      <td>0.669820</td>\n",
       "    </tr>\n",
       "    <tr>\n",
       "      <th>정확도_test</th>\n",
       "      <td>0.325699</td>\n",
       "      <td>0.304424</td>\n",
       "    </tr>\n",
       "    <tr>\n",
       "      <th>정밀도_test</th>\n",
       "      <td>0.480501</td>\n",
       "      <td>0.444194</td>\n",
       "    </tr>\n",
       "    <tr>\n",
       "      <th>재현율_test</th>\n",
       "      <td>0.573647</td>\n",
       "      <td>0.589142</td>\n",
       "    </tr>\n",
       "    <tr>\n",
       "      <th>f1_score_test</th>\n",
       "      <td>0.308471</td>\n",
       "      <td>0.290325</td>\n",
       "    </tr>\n",
       "  </tbody>\n",
       "</table>\n",
       "</div>"
      ],
      "text/plain": [
       "               smote_mean  ros_mean\n",
       "정확도              0.632206  0.663531\n",
       "정밀도              0.678056  0.699402\n",
       "재현율              0.762882  0.792774\n",
       "f1_score         0.643590  0.669820\n",
       "정확도_test         0.325699  0.304424\n",
       "정밀도_test         0.480501  0.444194\n",
       "재현율_test         0.573647  0.589142\n",
       "f1_score_test    0.308471  0.290325"
      ]
     },
     "execution_count": 12,
     "metadata": {},
     "output_type": "execute_result"
    }
   ],
   "source": [
    "df_score_0_1_ros = process_final_ros(df_0_1,'공모가 대비 1개월 수익률')\n",
    "\n",
    "df_score_0_1_ros['ros_mean'] = df_score_0_1_ros.mean(axis=1)\n",
    "\n",
    "ros_score = df_score_0_1_ros['ros_mean']\n",
    "\n",
    "data = pd.concat([rlf_score,ros_score],axis = 1)\n",
    "\n",
    "data = data.rename(columns = {'rlf_mean':\"smote_mean\"})\n",
    "\n",
    "data"
   ]
  },
  {
   "cell_type": "code",
   "execution_count": 13,
   "id": "e0bfec07",
   "metadata": {},
   "outputs": [],
   "source": [
    "# data.to_csv(\"smote_ros 비교.csv\",encoding = 'euc-kr')"
   ]
  }
 ],
 "metadata": {
  "kernelspec": {
   "display_name": "Python 3",
   "language": "python",
   "name": "python3"
  },
  "language_info": {
   "codemirror_mode": {
    "name": "ipython",
    "version": 3
   },
   "file_extension": ".py",
   "mimetype": "text/x-python",
   "name": "python",
   "nbconvert_exporter": "python",
   "pygments_lexer": "ipython3",
   "version": "3.6.10"
  },
  "toc": {
   "base_numbering": 1,
   "nav_menu": {},
   "number_sections": true,
   "sideBar": true,
   "skip_h1_title": false,
   "title_cell": "Table of Contents",
   "title_sidebar": "Contents",
   "toc_cell": false,
   "toc_position": {},
   "toc_section_display": true,
   "toc_window_display": false
  }
 },
 "nbformat": 4,
 "nbformat_minor": 5
}
