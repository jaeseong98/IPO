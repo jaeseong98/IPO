{
 "cells": [
  {
   "cell_type": "code",
   "execution_count": 51,
   "id": "2971db9e",
   "metadata": {},
   "outputs": [],
   "source": [
    "# ! pip install catboost"
   ]
  },
  {
   "cell_type": "code",
   "execution_count": 80,
   "id": "4d231fb5",
   "metadata": {},
   "outputs": [],
   "source": [
    "import warnings\n",
    "warnings.filterwarnings('ignore')\n",
    "import pandas as pd\n",
    "import numpy as np\n",
    "\n",
    "#시각화\n",
    "import matplotlib.pyplot as plt\n",
    "import seaborn as sns\n",
    "\n",
    "\n",
    "from sklearn.model_selection import train_test_split\n",
    "from sklearn.model_selection import KFold, StratifiedKFold\n",
    "from sklearn.metrics import *\n",
    "from sklearn.metrics import accuracy_score, confusion_matrix, log_loss\n",
    "\n",
    "##알고리즘 \n",
    "from sklearn.linear_model import LogisticRegression\n",
    "from sklearn.tree import DecisionTreeClassifier\n",
    "from sklearn.linear_model import LogisticRegression\n",
    "from sklearn.ensemble import RandomForestClassifier\n",
    "\n",
    "from xgboost import XGBClassifier\n",
    "from lightgbm import LGBMClassifier\n",
    "from catboost import CatBoostClassifier\n",
    "\n",
    "from tensorflow.keras.utils import to_categorical"
   ]
  },
  {
   "cell_type": "code",
   "execution_count": 53,
   "id": "cb284c91",
   "metadata": {},
   "outputs": [],
   "source": [
    "import matplotlib # 글자 깨짐 방지 폰트설정\n",
    "from matplotlib import font_manager, rc\n",
    "import platform\n",
    "\n",
    "if platform.system() == 'Windows':\n",
    "# 윈도우인 경우\n",
    "    font_name = font_manager.FontProperties(fname=\"c:/Windows/Fonts/malgun.ttf\").get_name()\n",
    "    rc('font', family=font_name)\n",
    "else:    \n",
    "# Mac 인 경우\n",
    "    rc('font', family='AppleGothic')\n",
    "    \n",
    "matplotlib.rcParams['axes.unicode_minus'] = False   \n",
    "#그래프에서 마이너스 기호가 표시되도록 하는 설정입니다."
   ]
  },
  {
   "cell_type": "markdown",
   "id": "e1e783f7",
   "metadata": {},
   "source": [
    "## 데이터"
   ]
  },
  {
   "cell_type": "markdown",
   "id": "393c26b3",
   "metadata": {},
   "source": [
    "## 데이터 불러오기"
   ]
  },
  {
   "cell_type": "code",
   "execution_count": 54,
   "id": "f985dee8",
   "metadata": {},
   "outputs": [],
   "source": [
    "df = pd.read_csv(\"d:/공모전/IPO/IPO/CleanData/KQ_all.csv\")"
   ]
  },
  {
   "cell_type": "code",
   "execution_count": 55,
   "id": "a2d643bd",
   "metadata": {},
   "outputs": [],
   "source": [
    "df.set_index(\"종목명\",inplace = True)"
   ]
  },
  {
   "cell_type": "code",
   "execution_count": 56,
   "id": "c3f8ddfc",
   "metadata": {
    "scrolled": true
   },
   "outputs": [
    {
     "name": "stdout",
     "output_type": "stream",
     "text": [
      "<class 'pandas.core.frame.DataFrame'>\n",
      "Index: 739 entries, 코오롱생명과학 to 제노코\n",
      "Data columns (total 55 columns):\n",
      " #   Column             Non-Null Count  Dtype  \n",
      "---  ------             --------------  -----  \n",
      " 0   상장유형               739 non-null    object \n",
      " 1   공모가                739 non-null    int64  \n",
      " 2   상장일                739 non-null    object \n",
      " 3   상장주식수              739 non-null    int64  \n",
      " 4   경쟁률                562 non-null    object \n",
      " 5   공모 시가총액            739 non-null    float64\n",
      " 6   매출총이익률             715 non-null    float64\n",
      " 7   영업이익률              715 non-null    float64\n",
      " 8   ROE                721 non-null    float64\n",
      " 9   유동비율               719 non-null    float64\n",
      " 10  당좌비율               713 non-null    float64\n",
      " 11  부채비율               721 non-null    float64\n",
      " 12  이자보상배율             718 non-null    object \n",
      " 13  매출채권회전율            705 non-null    float64\n",
      " 14  재고자산회전율            607 non-null    float64\n",
      " 15  매출액증가율             673 non-null    float64\n",
      " 16  영업이익증가율            684 non-null    float64\n",
      " 17  IPO_PER            722 non-null    float64\n",
      " 18  IPO_PBR            721 non-null    float64\n",
      " 19  IPO_EV/EBITDA      720 non-null    float64\n",
      " 20  1개월 후 PER          699 non-null    float64\n",
      " 21  3개월 후 PER          700 non-null    float64\n",
      " 22  1개월 후 PBR          698 non-null    float64\n",
      " 23  3개월 후 PBR          699 non-null    float64\n",
      " 24  1개월 후 EV/EBITDA    698 non-null    float64\n",
      " 25  3개월 후 EV/EBITDA    699 non-null    float64\n",
      " 26  1개월 평균 거래량회전율      739 non-null    float64\n",
      " 27  1개월 평균 일중변동률       739 non-null    float64\n",
      " 28  1개월 평균 개인 매도수량 비중  739 non-null    float64\n",
      " 29  1개월 평균 개인 매수수량 비중  739 non-null    float64\n",
      " 30  1개월 시가총액회전율        739 non-null    float64\n",
      " 31  3개월 평균 거래량회전율      739 non-null    float64\n",
      " 32  3개월 평균 일중변동률       739 non-null    float64\n",
      " 33  3개월 평균 개인 매도수량 비중  739 non-null    float64\n",
      " 34  3개월 평균 개인 매수수량 비중  739 non-null    float64\n",
      " 35  3개월 시가총액회전율        739 non-null    float64\n",
      " 36  1년전 대비 시장 회전율      739 non-null    float64\n",
      " 37  1년 전 대비 시장수익률      739 non-null    float64\n",
      " 38  1년 전 대비 광의통화 증감률   739 non-null    float64\n",
      " 39  1년 전 대비 고객예탁금 증감률  739 non-null    float64\n",
      " 40  1달 후 시장 회전율        739 non-null    float64\n",
      " 41  1달 후 시장수익률         739 non-null    float64\n",
      " 42  1달 후 광의통화 증감률      739 non-null    float64\n",
      " 43  1달 후 고객예탁금 증감률     739 non-null    float64\n",
      " 44  3달 후 시장 회전율        739 non-null    float64\n",
      " 45  3달 후 시장수익률         739 non-null    float64\n",
      " 46  3달 후 광의통화 증감률      739 non-null    float64\n",
      " 47  3달 후 고객예탁금 증감률     739 non-null    float64\n",
      " 48  상장일 기준 국고3년시장금리    739 non-null    float64\n",
      " 49  공모가 대비 1개월 수익률     739 non-null    float64\n",
      " 50  공모가 대비 3개월 수익률     739 non-null    float64\n",
      " 51  공모가 대비 6개월 수익률     739 non-null    float64\n",
      " 52  1_3_수익률            739 non-null    float64\n",
      " 53  3_6_수익률            739 non-null    float64\n",
      " 54  Cat                739 non-null    int64  \n",
      "dtypes: float64(48), int64(3), object(4)\n",
      "memory usage: 323.3+ KB\n"
     ]
    }
   ],
   "source": [
    "df.info()"
   ]
  },
  {
   "cell_type": "code",
   "execution_count": 57,
   "id": "ab7b30dd",
   "metadata": {
    "scrolled": true
   },
   "outputs": [
    {
     "data": {
      "text/plain": [
       "Index(['상장유형', '공모가', '상장일', '상장주식수', '경쟁률', '공모 시가총액', '매출총이익률', '영업이익률',\n",
       "       'ROE', '유동비율', '당좌비율', '부채비율', '이자보상배율', '매출채권회전율', '재고자산회전율', '매출액증가율',\n",
       "       '영업이익증가율', 'IPO_PER', 'IPO_PBR', 'IPO_EV/EBITDA', '1개월 후 PER',\n",
       "       '3개월 후 PER', '1개월 후 PBR', '3개월 후 PBR', '1개월 후 EV/EBITDA',\n",
       "       '3개월 후 EV/EBITDA', '1개월 평균 거래량회전율', '1개월 평균 일중변동률', '1개월 평균 개인 매도수량 비중',\n",
       "       '1개월 평균 개인 매수수량 비중', '1개월 시가총액회전율', '3개월 평균 거래량회전율', '3개월 평균 일중변동률',\n",
       "       '3개월 평균 개인 매도수량 비중', '3개월 평균 개인 매수수량 비중', '3개월 시가총액회전율',\n",
       "       '1년전 대비 시장 회전율', '1년 전 대비 시장수익률', '1년 전 대비 광의통화 증감률',\n",
       "       '1년 전 대비 고객예탁금 증감률', '1달 후 시장 회전율', '1달 후 시장수익률', '1달 후 광의통화 증감률',\n",
       "       '1달 후 고객예탁금 증감률', '3달 후 시장 회전율', '3달 후 시장수익률', '3달 후 광의통화 증감률',\n",
       "       '3달 후 고객예탁금 증감률', '상장일 기준 국고3년시장금리', '공모가 대비 1개월 수익률', '공모가 대비 3개월 수익률',\n",
       "       '공모가 대비 6개월 수익률', '1_3_수익률', '3_6_수익률', 'Cat'],\n",
       "      dtype='object')"
      ]
     },
     "execution_count": 57,
     "metadata": {},
     "output_type": "execute_result"
    }
   ],
   "source": [
    "df.columns"
   ]
  },
  {
   "cell_type": "code",
   "execution_count": 58,
   "id": "c598e0c6",
   "metadata": {},
   "outputs": [],
   "source": [
    "def scoring(x):\n",
    "    if x <  -0.40:\n",
    "        return 1\n",
    "    elif x < -0.20:\n",
    "        return 2\n",
    "    elif x < 0 :\n",
    "        return 3\n",
    "    elif x < 0.20:\n",
    "        return 4\n",
    "    else :\n",
    "        return 5"
   ]
  },
  {
   "cell_type": "code",
   "execution_count": 59,
   "id": "55fcb2be",
   "metadata": {},
   "outputs": [],
   "source": [
    "df['Cat'] = df['공모가 대비 6개월 수익률'].apply(lambda x : scoring(x))"
   ]
  },
  {
   "cell_type": "code",
   "execution_count": 60,
   "id": "f6c80689",
   "metadata": {},
   "outputs": [
    {
     "name": "stdout",
     "output_type": "stream",
     "text": [
      "<class 'pandas.core.frame.DataFrame'>\n",
      "Index: 739 entries, 코오롱생명과학 to 제노코\n",
      "Data columns (total 55 columns):\n",
      " #   Column             Non-Null Count  Dtype  \n",
      "---  ------             --------------  -----  \n",
      " 0   상장유형               739 non-null    object \n",
      " 1   공모가                739 non-null    int64  \n",
      " 2   상장일                739 non-null    object \n",
      " 3   상장주식수              739 non-null    int64  \n",
      " 4   경쟁률                562 non-null    object \n",
      " 5   공모 시가총액            739 non-null    float64\n",
      " 6   매출총이익률             715 non-null    float64\n",
      " 7   영업이익률              715 non-null    float64\n",
      " 8   ROE                721 non-null    float64\n",
      " 9   유동비율               719 non-null    float64\n",
      " 10  당좌비율               713 non-null    float64\n",
      " 11  부채비율               721 non-null    float64\n",
      " 12  이자보상배율             718 non-null    object \n",
      " 13  매출채권회전율            705 non-null    float64\n",
      " 14  재고자산회전율            607 non-null    float64\n",
      " 15  매출액증가율             673 non-null    float64\n",
      " 16  영업이익증가율            684 non-null    float64\n",
      " 17  IPO_PER            722 non-null    float64\n",
      " 18  IPO_PBR            721 non-null    float64\n",
      " 19  IPO_EV/EBITDA      720 non-null    float64\n",
      " 20  1개월 후 PER          699 non-null    float64\n",
      " 21  3개월 후 PER          700 non-null    float64\n",
      " 22  1개월 후 PBR          698 non-null    float64\n",
      " 23  3개월 후 PBR          699 non-null    float64\n",
      " 24  1개월 후 EV/EBITDA    698 non-null    float64\n",
      " 25  3개월 후 EV/EBITDA    699 non-null    float64\n",
      " 26  1개월 평균 거래량회전율      739 non-null    float64\n",
      " 27  1개월 평균 일중변동률       739 non-null    float64\n",
      " 28  1개월 평균 개인 매도수량 비중  739 non-null    float64\n",
      " 29  1개월 평균 개인 매수수량 비중  739 non-null    float64\n",
      " 30  1개월 시가총액회전율        739 non-null    float64\n",
      " 31  3개월 평균 거래량회전율      739 non-null    float64\n",
      " 32  3개월 평균 일중변동률       739 non-null    float64\n",
      " 33  3개월 평균 개인 매도수량 비중  739 non-null    float64\n",
      " 34  3개월 평균 개인 매수수량 비중  739 non-null    float64\n",
      " 35  3개월 시가총액회전율        739 non-null    float64\n",
      " 36  1년전 대비 시장 회전율      739 non-null    float64\n",
      " 37  1년 전 대비 시장수익률      739 non-null    float64\n",
      " 38  1년 전 대비 광의통화 증감률   739 non-null    float64\n",
      " 39  1년 전 대비 고객예탁금 증감률  739 non-null    float64\n",
      " 40  1달 후 시장 회전율        739 non-null    float64\n",
      " 41  1달 후 시장수익률         739 non-null    float64\n",
      " 42  1달 후 광의통화 증감률      739 non-null    float64\n",
      " 43  1달 후 고객예탁금 증감률     739 non-null    float64\n",
      " 44  3달 후 시장 회전율        739 non-null    float64\n",
      " 45  3달 후 시장수익률         739 non-null    float64\n",
      " 46  3달 후 광의통화 증감률      739 non-null    float64\n",
      " 47  3달 후 고객예탁금 증감률     739 non-null    float64\n",
      " 48  상장일 기준 국고3년시장금리    739 non-null    float64\n",
      " 49  공모가 대비 1개월 수익률     739 non-null    float64\n",
      " 50  공모가 대비 3개월 수익률     739 non-null    float64\n",
      " 51  공모가 대비 6개월 수익률     739 non-null    float64\n",
      " 52  1_3_수익률            739 non-null    float64\n",
      " 53  3_6_수익률            739 non-null    float64\n",
      " 54  Cat                739 non-null    int64  \n",
      "dtypes: float64(48), int64(3), object(4)\n",
      "memory usage: 323.3+ KB\n"
     ]
    }
   ],
   "source": [
    "df.info()"
   ]
  },
  {
   "cell_type": "markdown",
   "id": "8315bb8d",
   "metadata": {},
   "source": [
    "## 결측치 처리"
   ]
  },
  {
   "cell_type": "markdown",
   "id": "7da6a2d7",
   "metadata": {},
   "source": [
    "### 사용하는 컬럼 \n",
    "       '공모가', '상장주식수', '매출총이익률', '영업이익률',\n",
    "       'ROE', '유동비율', '당좌비율', '부채비율', '매출채권회전율', '매출액증가율',\n",
    "       '영업이익증가율', 'IPO_PER', 'IPO_PBR', 'IPO_EV/EBITDA', '1개월 후 PER',\n",
    "       '3개월 후 PER', '1개월 후 PBR', '3개월 후 PBR', '1개월 후 EV/EBITDA',\n",
    "       '3개월 후 EV/EBITDA', '1개월 평균 거래량회전율', '1개월 평균 일중변동률', '1개월 평균 개인 매도수량 비중',\n",
    "       '1개월 평균 개인 매수수량 비중', '1개월 시가총액회전율', '3개월 평균 거래량회전율', '3개월 평균 일중변동률',\n",
    "       '3개월 평균 개인 매도수량 비중', '3개월 평균 개인 매수수량 비중', '3개월 시가총액회전율',\n",
    "       '1년전 대비 시장 회전율', '1년 전 대비 시장수익률', '1년 전 대비 광의통화 증감률',\n",
    "       '1년 전 대비 고객예탁금 증감률', '1달 후 시장 회전율', '1달 후 시장수익률', '1달 후 광의통화 증감률',\n",
    "       '1달 후 고객예탁금 증감률', '3달 후 시장 회전율', '3달 후 시장수익률', '3달 후 광의통화 증감률',\n",
    "       '3달 후 고객예탁금 증감률', '상장일 기준 국고3년시장금리','Cat'\n",
    "- 재고자산회전율이랑 1개월,3개월 per 등등 : 결측치가 100개 넘어서 임시로 삭제\n",
    "- 이자보상배율에서 'inf'처리 애매해서 임시 삭제\n",
    "- 상장일 ,상장유형 - 문자열이라 제거\n",
    "- 경쟁률도 na 처리 애매해서 제거"
   ]
  },
  {
   "cell_type": "code",
   "execution_count": 61,
   "id": "5fe8f979",
   "metadata": {},
   "outputs": [],
   "source": [
    "df = df[['공모가', '상장주식수', '매출총이익률', '영업이익률',\n",
    "       'ROE', '유동비율', '당좌비율', '부채비율', '매출채권회전율', '매출액증가율',\n",
    "       '영업이익증가율', 'IPO_PER', 'IPO_PBR', 'IPO_EV/EBITDA', '1개월 후 PER',\n",
    "       '3개월 후 PER', '1개월 후 PBR', '3개월 후 PBR', '1개월 후 EV/EBITDA',\n",
    "       '3개월 후 EV/EBITDA', '1개월 평균 거래량회전율', '1개월 평균 일중변동률', '1개월 평균 개인 매도수량 비중',\n",
    "       '1개월 평균 개인 매수수량 비중', '1개월 시가총액회전율', '3개월 평균 거래량회전율', '3개월 평균 일중변동률',\n",
    "       '3개월 평균 개인 매도수량 비중', '3개월 평균 개인 매수수량 비중', '3개월 시가총액회전율',\n",
    "       '1년전 대비 시장 회전율', '1년 전 대비 시장수익률', '1년 전 대비 광의통화 증감률',\n",
    "       '1년 전 대비 고객예탁금 증감률', '1달 후 시장 회전율', '1달 후 시장수익률', '1달 후 광의통화 증감률',\n",
    "       '1달 후 고객예탁금 증감률', '3달 후 시장 회전율', '3달 후 시장수익률', '3달 후 광의통화 증감률',\n",
    "       '3달 후 고객예탁금 증감률', '상장일 기준 국고3년시장금리','Cat']]"
   ]
  },
  {
   "cell_type": "markdown",
   "id": "1c06fbea",
   "metadata": {},
   "source": [
    "### 결측치 임시로 삭제\n",
    "- 743개 -> 642개"
   ]
  },
  {
   "cell_type": "code",
   "execution_count": 62,
   "id": "9f8c88fb",
   "metadata": {
    "scrolled": true
   },
   "outputs": [],
   "source": [
    "df = df.dropna()"
   ]
  },
  {
   "cell_type": "code",
   "execution_count": 63,
   "id": "3de58a06",
   "metadata": {
    "scrolled": true
   },
   "outputs": [
    {
     "name": "stdout",
     "output_type": "stream",
     "text": [
      "<class 'pandas.core.frame.DataFrame'>\n",
      "Index: 642 entries, 코오롱생명과학 to 제노코\n",
      "Data columns (total 44 columns):\n",
      " #   Column             Non-Null Count  Dtype  \n",
      "---  ------             --------------  -----  \n",
      " 0   공모가                642 non-null    int64  \n",
      " 1   상장주식수              642 non-null    int64  \n",
      " 2   매출총이익률             642 non-null    float64\n",
      " 3   영업이익률              642 non-null    float64\n",
      " 4   ROE                642 non-null    float64\n",
      " 5   유동비율               642 non-null    float64\n",
      " 6   당좌비율               642 non-null    float64\n",
      " 7   부채비율               642 non-null    float64\n",
      " 8   매출채권회전율            642 non-null    float64\n",
      " 9   매출액증가율             642 non-null    float64\n",
      " 10  영업이익증가율            642 non-null    float64\n",
      " 11  IPO_PER            642 non-null    float64\n",
      " 12  IPO_PBR            642 non-null    float64\n",
      " 13  IPO_EV/EBITDA      642 non-null    float64\n",
      " 14  1개월 후 PER          642 non-null    float64\n",
      " 15  3개월 후 PER          642 non-null    float64\n",
      " 16  1개월 후 PBR          642 non-null    float64\n",
      " 17  3개월 후 PBR          642 non-null    float64\n",
      " 18  1개월 후 EV/EBITDA    642 non-null    float64\n",
      " 19  3개월 후 EV/EBITDA    642 non-null    float64\n",
      " 20  1개월 평균 거래량회전율      642 non-null    float64\n",
      " 21  1개월 평균 일중변동률       642 non-null    float64\n",
      " 22  1개월 평균 개인 매도수량 비중  642 non-null    float64\n",
      " 23  1개월 평균 개인 매수수량 비중  642 non-null    float64\n",
      " 24  1개월 시가총액회전율        642 non-null    float64\n",
      " 25  3개월 평균 거래량회전율      642 non-null    float64\n",
      " 26  3개월 평균 일중변동률       642 non-null    float64\n",
      " 27  3개월 평균 개인 매도수량 비중  642 non-null    float64\n",
      " 28  3개월 평균 개인 매수수량 비중  642 non-null    float64\n",
      " 29  3개월 시가총액회전율        642 non-null    float64\n",
      " 30  1년전 대비 시장 회전율      642 non-null    float64\n",
      " 31  1년 전 대비 시장수익률      642 non-null    float64\n",
      " 32  1년 전 대비 광의통화 증감률   642 non-null    float64\n",
      " 33  1년 전 대비 고객예탁금 증감률  642 non-null    float64\n",
      " 34  1달 후 시장 회전율        642 non-null    float64\n",
      " 35  1달 후 시장수익률         642 non-null    float64\n",
      " 36  1달 후 광의통화 증감률      642 non-null    float64\n",
      " 37  1달 후 고객예탁금 증감률     642 non-null    float64\n",
      " 38  3달 후 시장 회전율        642 non-null    float64\n",
      " 39  3달 후 시장수익률         642 non-null    float64\n",
      " 40  3달 후 광의통화 증감률      642 non-null    float64\n",
      " 41  3달 후 고객예탁금 증감률     642 non-null    float64\n",
      " 42  상장일 기준 국고3년시장금리    642 non-null    float64\n",
      " 43  Cat                642 non-null    int64  \n",
      "dtypes: float64(41), int64(3)\n",
      "memory usage: 225.7+ KB\n"
     ]
    }
   ],
   "source": [
    "df.info()"
   ]
  },
  {
   "cell_type": "code",
   "execution_count": 64,
   "id": "3209c9c7",
   "metadata": {
    "scrolled": false
   },
   "outputs": [
    {
     "data": {
      "text/html": [
       "<div>\n",
       "<style scoped>\n",
       "    .dataframe tbody tr th:only-of-type {\n",
       "        vertical-align: middle;\n",
       "    }\n",
       "\n",
       "    .dataframe tbody tr th {\n",
       "        vertical-align: top;\n",
       "    }\n",
       "\n",
       "    .dataframe thead th {\n",
       "        text-align: right;\n",
       "    }\n",
       "</style>\n",
       "<table border=\"1\" class=\"dataframe\">\n",
       "  <thead>\n",
       "    <tr style=\"text-align: right;\">\n",
       "      <th></th>\n",
       "      <th>공모가</th>\n",
       "      <th>상장주식수</th>\n",
       "      <th>매출총이익률</th>\n",
       "      <th>영업이익률</th>\n",
       "      <th>ROE</th>\n",
       "      <th>유동비율</th>\n",
       "      <th>당좌비율</th>\n",
       "      <th>부채비율</th>\n",
       "      <th>매출채권회전율</th>\n",
       "      <th>매출액증가율</th>\n",
       "      <th>...</th>\n",
       "      <th>1달 후 시장 회전율</th>\n",
       "      <th>1달 후 시장수익률</th>\n",
       "      <th>1달 후 광의통화 증감률</th>\n",
       "      <th>1달 후 고객예탁금 증감률</th>\n",
       "      <th>3달 후 시장 회전율</th>\n",
       "      <th>3달 후 시장수익률</th>\n",
       "      <th>3달 후 광의통화 증감률</th>\n",
       "      <th>3달 후 고객예탁금 증감률</th>\n",
       "      <th>상장일 기준 국고3년시장금리</th>\n",
       "      <th>Cat</th>\n",
       "    </tr>\n",
       "  </thead>\n",
       "  <tbody>\n",
       "    <tr>\n",
       "      <th>count</th>\n",
       "      <td>642.000000</td>\n",
       "      <td>6.420000e+02</td>\n",
       "      <td>642.000000</td>\n",
       "      <td>642.000000</td>\n",
       "      <td>642.000000</td>\n",
       "      <td>642.000000</td>\n",
       "      <td>642.000000</td>\n",
       "      <td>642.000000</td>\n",
       "      <td>642.000000</td>\n",
       "      <td>642.000000</td>\n",
       "      <td>...</td>\n",
       "      <td>642.000000</td>\n",
       "      <td>642.000000</td>\n",
       "      <td>642.000000</td>\n",
       "      <td>642.000000</td>\n",
       "      <td>642.000000</td>\n",
       "      <td>642.000000</td>\n",
       "      <td>642.000000</td>\n",
       "      <td>642.000000</td>\n",
       "      <td>642.000000</td>\n",
       "      <td>642.000000</td>\n",
       "    </tr>\n",
       "    <tr>\n",
       "      <th>mean</th>\n",
       "      <td>13986.604361</td>\n",
       "      <td>1.018858e+07</td>\n",
       "      <td>0.387726</td>\n",
       "      <td>-1.011953</td>\n",
       "      <td>0.059640</td>\n",
       "      <td>2.972037</td>\n",
       "      <td>2.482116</td>\n",
       "      <td>1.157753</td>\n",
       "      <td>8.801234</td>\n",
       "      <td>0.706686</td>\n",
       "      <td>...</td>\n",
       "      <td>67.125815</td>\n",
       "      <td>0.010207</td>\n",
       "      <td>0.005650</td>\n",
       "      <td>0.010753</td>\n",
       "      <td>195.705866</td>\n",
       "      <td>0.023602</td>\n",
       "      <td>0.016844</td>\n",
       "      <td>0.043174</td>\n",
       "      <td>2.238972</td>\n",
       "      <td>3.736760</td>\n",
       "    </tr>\n",
       "    <tr>\n",
       "      <th>std</th>\n",
       "      <td>14333.016650</td>\n",
       "      <td>1.223039e+07</td>\n",
       "      <td>0.249474</td>\n",
       "      <td>12.719178</td>\n",
       "      <td>2.496438</td>\n",
       "      <td>4.352604</td>\n",
       "      <td>4.221731</td>\n",
       "      <td>2.563653</td>\n",
       "      <td>21.696816</td>\n",
       "      <td>2.923613</td>\n",
       "      <td>...</td>\n",
       "      <td>27.272916</td>\n",
       "      <td>0.059357</td>\n",
       "      <td>0.003750</td>\n",
       "      <td>0.080460</td>\n",
       "      <td>68.902160</td>\n",
       "      <td>0.089845</td>\n",
       "      <td>0.007353</td>\n",
       "      <td>0.110788</td>\n",
       "      <td>0.993556</td>\n",
       "      <td>1.326857</td>\n",
       "    </tr>\n",
       "    <tr>\n",
       "      <th>min</th>\n",
       "      <td>1000.000000</td>\n",
       "      <td>2.000000e+06</td>\n",
       "      <td>-0.209940</td>\n",
       "      <td>-301.556329</td>\n",
       "      <td>-59.042534</td>\n",
       "      <td>0.171335</td>\n",
       "      <td>0.108116</td>\n",
       "      <td>-35.801389</td>\n",
       "      <td>0.128725</td>\n",
       "      <td>-0.757747</td>\n",
       "      <td>...</td>\n",
       "      <td>30.071322</td>\n",
       "      <td>-0.313807</td>\n",
       "      <td>-0.003817</td>\n",
       "      <td>-0.189932</td>\n",
       "      <td>105.858946</td>\n",
       "      <td>-0.338813</td>\n",
       "      <td>-0.003286</td>\n",
       "      <td>-0.246839</td>\n",
       "      <td>0.800000</td>\n",
       "      <td>1.000000</td>\n",
       "    </tr>\n",
       "    <tr>\n",
       "      <th>25%</th>\n",
       "      <td>5500.000000</td>\n",
       "      <td>4.999101e+06</td>\n",
       "      <td>0.201854</td>\n",
       "      <td>0.066390</td>\n",
       "      <td>0.126615</td>\n",
       "      <td>1.168170</td>\n",
       "      <td>0.817450</td>\n",
       "      <td>0.394267</td>\n",
       "      <td>3.559129</td>\n",
       "      <td>0.082278</td>\n",
       "      <td>...</td>\n",
       "      <td>49.362945</td>\n",
       "      <td>-0.028867</td>\n",
       "      <td>0.002863</td>\n",
       "      <td>-0.039346</td>\n",
       "      <td>148.120764</td>\n",
       "      <td>-0.031366</td>\n",
       "      <td>0.012787</td>\n",
       "      <td>-0.020901</td>\n",
       "      <td>1.520000</td>\n",
       "      <td>3.000000</td>\n",
       "    </tr>\n",
       "    <tr>\n",
       "      <th>50%</th>\n",
       "      <td>10000.000000</td>\n",
       "      <td>6.828324e+06</td>\n",
       "      <td>0.308438</td>\n",
       "      <td>0.117778</td>\n",
       "      <td>0.216476</td>\n",
       "      <td>1.768190</td>\n",
       "      <td>1.306053</td>\n",
       "      <td>0.823709</td>\n",
       "      <td>5.393854</td>\n",
       "      <td>0.278192</td>\n",
       "      <td>...</td>\n",
       "      <td>55.813249</td>\n",
       "      <td>0.010024</td>\n",
       "      <td>0.005339</td>\n",
       "      <td>0.002054</td>\n",
       "      <td>171.833544</td>\n",
       "      <td>0.020494</td>\n",
       "      <td>0.015784</td>\n",
       "      <td>0.027355</td>\n",
       "      <td>1.890000</td>\n",
       "      <td>4.000000</td>\n",
       "    </tr>\n",
       "    <tr>\n",
       "      <th>75%</th>\n",
       "      <td>16925.000000</td>\n",
       "      <td>1.019461e+07</td>\n",
       "      <td>0.507153</td>\n",
       "      <td>0.193336</td>\n",
       "      <td>0.324924</td>\n",
       "      <td>3.056876</td>\n",
       "      <td>2.406421</td>\n",
       "      <td>1.562156</td>\n",
       "      <td>8.594474</td>\n",
       "      <td>0.624327</td>\n",
       "      <td>...</td>\n",
       "      <td>75.718070</td>\n",
       "      <td>0.051375</td>\n",
       "      <td>0.007735</td>\n",
       "      <td>0.052262</td>\n",
       "      <td>221.122236</td>\n",
       "      <td>0.073447</td>\n",
       "      <td>0.020791</td>\n",
       "      <td>0.089637</td>\n",
       "      <td>2.975000</td>\n",
       "      <td>5.000000</td>\n",
       "    </tr>\n",
       "    <tr>\n",
       "      <th>max</th>\n",
       "      <td>150000.000000</td>\n",
       "      <td>1.366881e+08</td>\n",
       "      <td>1.000000</td>\n",
       "      <td>0.718454</td>\n",
       "      <td>3.122454</td>\n",
       "      <td>61.003046</td>\n",
       "      <td>59.190470</td>\n",
       "      <td>23.542878</td>\n",
       "      <td>480.157970</td>\n",
       "      <td>66.936003</td>\n",
       "      <td>...</td>\n",
       "      <td>160.492173</td>\n",
       "      <td>0.235714</td>\n",
       "      <td>0.023059</td>\n",
       "      <td>0.408966</td>\n",
       "      <td>397.234101</td>\n",
       "      <td>0.457612</td>\n",
       "      <td>0.042001</td>\n",
       "      <td>0.623441</td>\n",
       "      <td>4.470000</td>\n",
       "      <td>5.000000</td>\n",
       "    </tr>\n",
       "  </tbody>\n",
       "</table>\n",
       "<p>8 rows × 44 columns</p>\n",
       "</div>"
      ],
      "text/plain": [
       "                 공모가         상장주식수      매출총이익률       영업이익률         ROE  \\\n",
       "count     642.000000  6.420000e+02  642.000000  642.000000  642.000000   \n",
       "mean    13986.604361  1.018858e+07    0.387726   -1.011953    0.059640   \n",
       "std     14333.016650  1.223039e+07    0.249474   12.719178    2.496438   \n",
       "min      1000.000000  2.000000e+06   -0.209940 -301.556329  -59.042534   \n",
       "25%      5500.000000  4.999101e+06    0.201854    0.066390    0.126615   \n",
       "50%     10000.000000  6.828324e+06    0.308438    0.117778    0.216476   \n",
       "75%     16925.000000  1.019461e+07    0.507153    0.193336    0.324924   \n",
       "max    150000.000000  1.366881e+08    1.000000    0.718454    3.122454   \n",
       "\n",
       "             유동비율        당좌비율        부채비율     매출채권회전율      매출액증가율  ...  \\\n",
       "count  642.000000  642.000000  642.000000  642.000000  642.000000  ...   \n",
       "mean     2.972037    2.482116    1.157753    8.801234    0.706686  ...   \n",
       "std      4.352604    4.221731    2.563653   21.696816    2.923613  ...   \n",
       "min      0.171335    0.108116  -35.801389    0.128725   -0.757747  ...   \n",
       "25%      1.168170    0.817450    0.394267    3.559129    0.082278  ...   \n",
       "50%      1.768190    1.306053    0.823709    5.393854    0.278192  ...   \n",
       "75%      3.056876    2.406421    1.562156    8.594474    0.624327  ...   \n",
       "max     61.003046   59.190470   23.542878  480.157970   66.936003  ...   \n",
       "\n",
       "       1달 후 시장 회전율  1달 후 시장수익률  1달 후 광의통화 증감률  1달 후 고객예탁금 증감률  3달 후 시장 회전율  \\\n",
       "count   642.000000  642.000000     642.000000      642.000000   642.000000   \n",
       "mean     67.125815    0.010207       0.005650        0.010753   195.705866   \n",
       "std      27.272916    0.059357       0.003750        0.080460    68.902160   \n",
       "min      30.071322   -0.313807      -0.003817       -0.189932   105.858946   \n",
       "25%      49.362945   -0.028867       0.002863       -0.039346   148.120764   \n",
       "50%      55.813249    0.010024       0.005339        0.002054   171.833544   \n",
       "75%      75.718070    0.051375       0.007735        0.052262   221.122236   \n",
       "max     160.492173    0.235714       0.023059        0.408966   397.234101   \n",
       "\n",
       "       3달 후 시장수익률  3달 후 광의통화 증감률  3달 후 고객예탁금 증감률  상장일 기준 국고3년시장금리         Cat  \n",
       "count  642.000000     642.000000      642.000000       642.000000  642.000000  \n",
       "mean     0.023602       0.016844        0.043174         2.238972    3.736760  \n",
       "std      0.089845       0.007353        0.110788         0.993556    1.326857  \n",
       "min     -0.338813      -0.003286       -0.246839         0.800000    1.000000  \n",
       "25%     -0.031366       0.012787       -0.020901         1.520000    3.000000  \n",
       "50%      0.020494       0.015784        0.027355         1.890000    4.000000  \n",
       "75%      0.073447       0.020791        0.089637         2.975000    5.000000  \n",
       "max      0.457612       0.042001        0.623441         4.470000    5.000000  \n",
       "\n",
       "[8 rows x 44 columns]"
      ]
     },
     "execution_count": 64,
     "metadata": {},
     "output_type": "execute_result"
    }
   ],
   "source": [
    "df.describe()"
   ]
  },
  {
   "cell_type": "code",
   "execution_count": 65,
   "id": "64fa49d3",
   "metadata": {},
   "outputs": [
    {
     "data": {
      "text/plain": [
       "<AxesSubplot:>"
      ]
     },
     "execution_count": 65,
     "metadata": {},
     "output_type": "execute_result"
    },
    {
     "data": {
      "image/png": "[encoded data removed]",
      "text/plain": [
       "<Figure size 648x648 with 2 Axes>"
      ]
     },
     "metadata": {
      "needs_background": "light"
     },
     "output_type": "display_data"
    }
   ],
   "source": [
    "plt.figure(figsize =(9,9))\n",
    "corr = df.corr()\n",
    "sns.heatmap(corr,cmap='RdBu')"
   ]
  },
  {
   "cell_type": "code",
   "execution_count": 66,
   "id": "65156cbb",
   "metadata": {},
   "outputs": [],
   "source": [
    "X_features = df.drop(['Cat'],axis=1)\n",
    "y = df['Cat']"
   ]
  },
  {
   "cell_type": "code",
   "execution_count": 67,
   "id": "6ade4873",
   "metadata": {},
   "outputs": [],
   "source": [
    "X_train, X_test, y_train, y_test = train_test_split(X_features, y,\\\n",
    "                                                    test_size=0.2,random_state=121)"
   ]
  },
  {
   "cell_type": "markdown",
   "id": "31a3b85a",
   "metadata": {},
   "source": [
    "# 모델링"
   ]
  },
  {
   "cell_type": "code",
   "execution_count": 88,
   "id": "1f06d70b",
   "metadata": {},
   "outputs": [],
   "source": [
    "def run_kfold(model):\n",
    "    folds=StratifiedKFold(n_splits=5, shuffle=True, random_state=55)\n",
    "    outcomes=[]\n",
    "    sub=np.zeros((X_test.shape[0], 5))  \n",
    "    for n_fold, (train_index, val_index) in enumerate(folds.split(X_train, y_train )):\n",
    "        train_x, X_val = X_train.iloc[train_index], X_train.iloc[val_index]\n",
    "        train_y, y_val = y_train.iloc[train_index], y_train.iloc[val_index]\n",
    "        model.fit(train_x, train_y)\n",
    "        \n",
    "        predictions=model.predict_proba(X_val)\n",
    "        \n",
    "        logloss=log_loss(y_val, predictions)\n",
    "        outcomes.append(logloss)\n",
    "        print(f\"FOLD {n_fold} : logloss:{logloss}\")\n",
    "        \n",
    "        sub+=model.predict_proba(X_test)\n",
    "        \n",
    "    mean_outcome=np.mean(outcomes)\n",
    "    \n",
    "    print(\"Mean:{}\".format(mean_outcome))\n",
    "    return sub/folds.n_splits"
   ]
  },
  {
   "cell_type": "code",
   "execution_count": 202,
   "id": "7395f259",
   "metadata": {},
   "outputs": [],
   "source": [
    "# 다양한 오차 측정 지표를 확인하기 위한 함수 정의\n",
    "\n",
    "from sklearn.metrics import *\n",
    "\n",
    "def get_clf_eval(y_test, pred=None, pred_proba=None): \n",
    "    confusion = confusion_matrix(y_test, pred) \n",
    "    accuracy = accuracy_score(y_test, pred) \n",
    "    precision = precision_score(y_test, pred , pos_label = 'positive', average= 'micro') \n",
    "    recall = recall_score(y_test, pred , pos_label = 'positive', average= 'micro') \n",
    "    f1 = f1_score(y_test, pred,pos_label = 'positive', average= 'micro') \n",
    "\n",
    "    \n",
    "    print('Confusion Matrix') \n",
    "    print(confusion) \n",
    "    print('정획도(accuracy): {0:.4f}, 정밀도(precision): {1:.4f}, 재현율(recall): {2:.4f}, f1_score: {3:.4f}'.format(accuracy, precision, recall, f1))\n",
    "    "
   ]
  },
  {
   "cell_type": "markdown",
   "id": "129126fe",
   "metadata": {},
   "source": [
    "## 랜덤포레스트"
   ]
  },
  {
   "cell_type": "code",
   "execution_count": 206,
   "id": "8f97d392",
   "metadata": {
    "scrolled": true
   },
   "outputs": [
    {
     "name": "stdout",
     "output_type": "stream",
     "text": [
      "----랜덤포레스트 분류 모델 평가----\n",
      "Confusion Matrix\n",
      "[[ 1  2  4  0  4]\n",
      " [ 2  6  4  1  4]\n",
      " [ 0  8  1  1  9]\n",
      " [ 0  3  3  7 11]\n",
      " [ 0  1  2  4 51]]\n",
      "정획도(accuracy): 0.5116, 정밀도(precision): 0.5116, 재현율(recall): 0.5116, f1_score: 0.5116\n"
     ]
    }
   ],
   "source": [
    "# 랜덤 포레스트 학습 및 별도의 테스트 셋으로 예측 성능 평가\n",
    "rf_clf = RandomForestClassifier(random_state=0)\n",
    "rf_clf.fit(X_train , y_train)\n",
    "pred = rf_clf.predict(X_test)\n",
    "print(\"----랜덤포레스트 분류 모델 평가----\")\n",
    "get_clf_eval(y_test,pred)"
   ]
  },
  {
   "cell_type": "markdown",
   "id": "3ad553b0",
   "metadata": {},
   "source": [
    "### 하이퍼파라미터 튜닝"
   ]
  },
  {
   "cell_type": "code",
   "execution_count": 163,
   "id": "61dc9825",
   "metadata": {
    "scrolled": false
   },
   "outputs": [
    {
     "name": "stdout",
     "output_type": "stream",
     "text": [
      "최적 하이퍼 파라미터:\n",
      " {'max_depth': 10, 'min_samples_leaf': 4, 'min_samples_split': 4, 'n_estimators': 400}\n",
      "최고 예측 정확도: 0.5186\n"
     ]
    }
   ],
   "source": [
    "from sklearn.model_selection import GridSearchCV\n",
    "\n",
    "params = {\n",
    "    'n_estimators': [400] ,\n",
    "    'max_depth' : [2, 4,6, 8, 10, 12], \n",
    "    'min_samples_leaf' : [4, 8, 12, 18 ],\n",
    "    'min_samples_split' : [4, 8, 16, 20]\n",
    "}\n",
    "# RandomForestClassifier 객체 생성 후 GridSearchCV 수행\n",
    "rf_clf = RandomForestClassifier(random_state=0, n_jobs=-1)\n",
    "grid_cv = GridSearchCV(rf_clf , param_grid=params , cv=5, n_jobs=-1 )\n",
    "grid_cv.fit(X_train , y_train)\n",
    "\n",
    "print('최적 하이퍼 파라미터:\\n', grid_cv.best_params_)\n",
    "print('최고 예측 정확도: {0:.4f}'.format(grid_cv.best_score_))"
   ]
  },
  {
   "cell_type": "markdown",
   "id": "a68f3483",
   "metadata": {},
   "source": [
    "### 튜닝된 파라미터로 재실행"
   ]
  },
  {
   "cell_type": "code",
   "execution_count": 207,
   "id": "fc787cc6",
   "metadata": {},
   "outputs": [
    {
     "name": "stdout",
     "output_type": "stream",
     "text": [
      "----랜덤포레스트 분류 모델 평가----\n",
      "Confusion Matrix\n",
      "[[ 1  3  3  0  4]\n",
      " [ 0  7  5  1  4]\n",
      " [ 0  6  2  2  9]\n",
      " [ 0  2  3  8 11]\n",
      " [ 0  0  1  3 54]]\n",
      "정획도(accuracy): 0.5581, 정밀도(precision): 0.5581, 재현율(recall): 0.5581, f1_score: 0.5581\n"
     ]
    }
   ],
   "source": [
    "# 랜덤 포레스트 학습 및 별도의 테스트 셋으로 예측 성능 평가\n",
    "rf_clf_2 = RandomForestClassifier(random_state=0 , max_depth = 10 , min_samples_leaf = 4 , min_samples_split =  4 , n_estimators = 400)\n",
    "rf_clf_2.fit(X_train , y_train)\n",
    "pred = rf_clf_2.predict(X_test)\n",
    "print(\"----랜덤포레스트 분류 모델 평가----\")\n",
    "get_clf_eval(y_test,pred)"
   ]
  },
  {
   "cell_type": "markdown",
   "id": "2a16e37e",
   "metadata": {},
   "source": [
    "### feature importance 시각화"
   ]
  },
  {
   "cell_type": "code",
   "execution_count": 198,
   "id": "567c5086",
   "metadata": {
    "scrolled": false
   },
   "outputs": [
    {
     "data": {
      "image/png": "[encoded data removed]",
      "text/plain": [
       "<Figure size 576x432 with 1 Axes>"
      ]
     },
     "metadata": {
      "needs_background": "light"
     },
     "output_type": "display_data"
    }
   ],
   "source": [
    "import matplotlib.pyplot as plt\n",
    "import seaborn as sns\n",
    "%matplotlib inline\n",
    "\n",
    "ftr_importances_values = rf_clf.feature_importances_\n",
    "ftr_importances = pd.Series(ftr_importances_values,index=X_train.columns  )\n",
    "ftr_top20 = ftr_importances.sort_values(ascending=False)[:20]\n",
    "\n",
    "plt.figure(figsize=(8,6))\n",
    "plt.title('Feature importances Top 20')\n",
    "sns.barplot(x=ftr_top20 , y = ftr_top20.index)\n",
    "plt.show()"
   ]
  },
  {
   "cell_type": "markdown",
   "id": "11243449",
   "metadata": {},
   "source": [
    "### feature importance 값"
   ]
  },
  {
   "cell_type": "code",
   "execution_count": 199,
   "id": "e7a96dcc",
   "metadata": {},
   "outputs": [
    {
     "data": {
      "text/plain": [
       "3개월 평균 일중변동률         0.036794\n",
       "3개월 후 EV/EBITDA      0.034495\n",
       "3개월 후 PER            0.032654\n",
       "1개월 평균 일중변동률         0.032453\n",
       "IPO_PBR              0.031825\n",
       "IPO_EV/EBITDA        0.030855\n",
       "공모가                  0.029708\n",
       "1개월 후 EV/EBITDA      0.028786\n",
       "3개월 후 PBR            0.028329\n",
       "매출채권회전율              0.024720\n",
       "3달 후 시장수익률           0.024272\n",
       "1개월 평균 거래량회전율        0.024185\n",
       "IPO_PER              0.024143\n",
       "1달 후 시장수익률           0.023866\n",
       "상장일 기준 국고3년시장금리      0.023458\n",
       "상장주식수                0.023164\n",
       "3달 후 고객예탁금 증감률       0.023093\n",
       "1개월 시가총액회전율          0.023092\n",
       "매출총이익률               0.023068\n",
       "유동비율                 0.023035\n",
       "1개월 후 PBR            0.022702\n",
       "1개월 후 PER            0.022473\n",
       "1년전 대비 시장 회전율        0.022392\n",
       "매출액증가율               0.022154\n",
       "3개월 평균 거래량회전율        0.021970\n",
       "1달 후 고객예탁금 증감률       0.021473\n",
       "3개월 평균 개인 매도수량 비중    0.021345\n",
       "영업이익증가율              0.020928\n",
       "1년 전 대비 시장수익률        0.020293\n",
       "1달 후 광의통화 증감률        0.020262\n",
       "당좌비율                 0.019883\n",
       "3개월 시가총액회전율          0.019784\n",
       "부채비율                 0.019634\n",
       "ROE                  0.019504\n",
       "3개월 평균 개인 매수수량 비중    0.018823\n",
       "1년 전 대비 광의통화 증감률     0.018790\n",
       "1년 전 대비 고객예탁금 증감률    0.018600\n",
       "3달 후 광의통화 증감률        0.017553\n",
       "영업이익률                0.017337\n",
       "1달 후 시장 회전율          0.017310\n",
       "1개월 평균 개인 매도수량 비중    0.017138\n",
       "1개월 평균 개인 매수수량 비중    0.016856\n",
       "3달 후 시장 회전율          0.016801\n",
       "dtype: float64"
      ]
     },
     "execution_count": 199,
     "metadata": {},
     "output_type": "execute_result"
    }
   ],
   "source": [
    "ftr_importances.sort_values(ascending = False)"
   ]
  },
  {
   "cell_type": "markdown",
   "id": "2636db7c",
   "metadata": {},
   "source": [
    "## XGBoost"
   ]
  },
  {
   "cell_type": "code",
   "execution_count": 205,
   "id": "a0fab6a4",
   "metadata": {
    "scrolled": false
   },
   "outputs": [
    {
     "name": "stdout",
     "output_type": "stream",
     "text": [
      "[22:30:48] WARNING: C:/Users/Administrator/workspace/xgboost-win64_release_1.4.0/src/learner.cc:1095: Starting in XGBoost 1.3.0, the default evaluation metric used with the objective 'multi:softprob' was changed from 'merror' to 'mlogloss'. Explicitly set eval_metric if you'd like to restore the old behavior.\n",
      "----XGBoost 분류 모델 평가----\n",
      "Confusion Matrix\n",
      "[[ 4  3  2  1  1]\n",
      " [ 3  5  4  3  2]\n",
      " [ 2  6  2  3  6]\n",
      " [ 0  3  5  8  8]\n",
      " [ 2  0  3  4 49]]\n",
      "정획도(accuracy): 0.5271, 정밀도(precision): 0.5271, 재현율(recall): 0.5271, f1_score: 0.5271\n"
     ]
    }
   ],
   "source": [
    "# 모델 학습\n",
    "xgb_wrapper = XGBClassifier(random_state = 0)\n",
    "xgb_wrapper.fit(X_train, y_train)\n",
    "\n",
    "# predict  추출\n",
    "pred = xgb_wrapper.predict(X_test)\n",
    "print(\"----XGBoost 분류 모델 평가----\")\n",
    "get_clf_eval(y_test,pred)"
   ]
  },
  {
   "cell_type": "markdown",
   "id": "ecb940dc",
   "metadata": {},
   "source": [
    "### 하이퍼 파라미터 튜닝"
   ]
  },
  {
   "cell_type": "code",
   "execution_count": 146,
   "id": "d144b57e",
   "metadata": {
    "scrolled": true
   },
   "outputs": [],
   "source": [
    "param_grid = {\n",
    "    \"max_depth\": [3, 4, 5, 7],\n",
    "    \"learning_rate\": [0.1, 0.01, 0.05],\n",
    "    \"gamma\": [0, 0.25, 1],\n",
    "    \"reg_lambda\": [0, 1, 10],\n",
    "    \"scale_pos_weight\": [1, 3, 5],\n",
    "    \"subsample\": [0.8],\n",
    "    \"colsample_bytree\": [0.5],\n",
    "}"
   ]
  },
  {
   "cell_type": "code",
   "execution_count": 148,
   "id": "65382bf5",
   "metadata": {},
   "outputs": [
    {
     "name": "stdout",
     "output_type": "stream",
     "text": [
      "[19:16:18] WARNING: C:/Users/Administrator/workspace/xgboost-win64_release_1.4.0/src/learner.cc:573: \n",
      "Parameters: { \"scale_pos_weight\" } might not be used.\n",
      "\n",
      "  This may not be accurate due to some parameters are only used in language bindings but\n",
      "  passed down to XGBoost core.  Or some parameters are not used but slip through this\n",
      "  verification. Please open an issue if you find above cases.\n",
      "\n",
      "\n",
      "[19:16:18] WARNING: C:/Users/Administrator/workspace/xgboost-win64_release_1.4.0/src/learner.cc:1095: Starting in XGBoost 1.3.0, the default evaluation metric used with the objective 'multi:softprob' was changed from 'merror' to 'mlogloss'. Explicitly set eval_metric if you'd like to restore the old behavior.\n"
     ]
    },
    {
     "data": {
      "text/plain": [
       "GridSearchCV(cv=3,\n",
       "             estimator=XGBClassifier(base_score=None, booster=None,\n",
       "                                     colsample_bylevel=None,\n",
       "                                     colsample_bynode=None,\n",
       "                                     colsample_bytree=None, gamma=None,\n",
       "                                     gpu_id=None, importance_type='gain',\n",
       "                                     interaction_constraints=None,\n",
       "                                     learning_rate=None, max_delta_step=None,\n",
       "                                     max_depth=None, min_child_weight=None,\n",
       "                                     missing=nan, monotone_constraints=None,\n",
       "                                     n_estimators=100, n_jobs...\n",
       "                                     random_state=None, reg_alpha=None,\n",
       "                                     reg_lambda=None, scale_pos_weight=None,\n",
       "                                     subsample=None, tree_method=None,\n",
       "                                     validate_parameters=None, verbosity=None),\n",
       "             n_jobs=-1,\n",
       "             param_grid={'colsample_bytree': [0.5], 'gamma': [0, 0.25, 1],\n",
       "                         'learning_rate': [0.1, 0.01, 0.05],\n",
       "                         'max_depth': [3, 4, 5, 7], 'reg_lambda': [0, 1, 10],\n",
       "                         'scale_pos_weight': [1, 3, 5], 'subsample': [0.8]},\n",
       "             scoring='accuracy')"
      ]
     },
     "execution_count": 148,
     "metadata": {},
     "output_type": "execute_result"
    }
   ],
   "source": [
    "# Init classifier\n",
    "xgb_cl = XGBClassifier(objective=\"multi:softprob\")\n",
    "\n",
    "# Init Grid Search\n",
    "grid_cv = GridSearchCV(xgb_cl, param_grid, n_jobs=-1, cv=3, scoring=\"accuracy\")\n",
    "\n",
    "# Fit\n",
    "grid_cv.fit(X_train, y_train)"
   ]
  },
  {
   "cell_type": "code",
   "execution_count": 149,
   "id": "c9fa91f3",
   "metadata": {
    "scrolled": true
   },
   "outputs": [
    {
     "name": "stdout",
     "output_type": "stream",
     "text": [
      "최적 하이퍼 파라미터:\n",
      " {'colsample_bytree': 0.5, 'gamma': 0.25, 'learning_rate': 0.1, 'max_depth': 4, 'reg_lambda': 1, 'scale_pos_weight': 1, 'subsample': 0.8}\n",
      "최고 예측 정확도: 0.5283\n"
     ]
    }
   ],
   "source": [
    "print('최적 하이퍼 파라미터:\\n', grid_cv.best_params_)\n",
    "print('최고 예측 정확도: {0:.4f}'.format(grid_cv.best_score_))"
   ]
  },
  {
   "cell_type": "markdown",
   "id": "c61c666f",
   "metadata": {},
   "source": [
    "### 하이퍼 파라미터 변화 후"
   ]
  },
  {
   "cell_type": "code",
   "execution_count": 153,
   "id": "cc04fd0f",
   "metadata": {},
   "outputs": [],
   "source": [
    "# Insert the new fixed values to the grid\n",
    "param_grid[\"scale_pos_weight\"] = [1]\n",
    "param_grid[\"subsample\"] = [0.8]\n",
    "param_grid[\"colsample_bytree\"] = [0.5]\n",
    "\n",
    "# Give new value ranges to other params\n",
    "param_grid[\"gamma\"] = [0.01, 0.1, 0.25]\n",
    "param_grid[\"max_depth\"] = [2, 3, 4]\n",
    "param_grid[\"reg_lambda\"] = [10, 15, 20]\n",
    "param_grid[\"learning_rate\"] = [0.3, 0.5, 0.7, 1]"
   ]
  },
  {
   "cell_type": "code",
   "execution_count": 154,
   "id": "7d1cdab3",
   "metadata": {
    "scrolled": true
   },
   "outputs": [
    {
     "name": "stdout",
     "output_type": "stream",
     "text": [
      "[19:26:23] WARNING: C:/Users/Administrator/workspace/xgboost-win64_release_1.4.0/src/learner.cc:573: \n",
      "Parameters: { \"scale_pos_weight\" } might not be used.\n",
      "\n",
      "  This may not be accurate due to some parameters are only used in language bindings but\n",
      "  passed down to XGBoost core.  Or some parameters are not used but slip through this\n",
      "  verification. Please open an issue if you find above cases.\n",
      "\n",
      "\n",
      "[19:26:23] WARNING: C:/Users/Administrator/workspace/xgboost-win64_release_1.4.0/src/learner.cc:1095: Starting in XGBoost 1.3.0, the default evaluation metric used with the objective 'multi:softprob' was changed from 'merror' to 'mlogloss'. Explicitly set eval_metric if you'd like to restore the old behavior.\n"
     ]
    },
    {
     "data": {
      "text/plain": [
       "0.5224171539961013"
      ]
     },
     "execution_count": 154,
     "metadata": {},
     "output_type": "execute_result"
    }
   ],
   "source": [
    "grid_cv_2 = GridSearchCV(xgb_cl, param_grid, \n",
    "                         cv=3, scoring=\"accuracy\", n_jobs=-1)\n",
    "\n",
    "grid_cv_2.fit(X_train, y_train)\n",
    "\n",
    "grid_cv_2.best_score_"
   ]
  },
  {
   "cell_type": "markdown",
   "id": "5ce1ff9a",
   "metadata": {},
   "source": [
    "### 튜닝된 파라미터로 재실행"
   ]
  },
  {
   "cell_type": "code",
   "execution_count": 209,
   "id": "5616fde2",
   "metadata": {
    "scrolled": true
   },
   "outputs": [
    {
     "name": "stdout",
     "output_type": "stream",
     "text": [
      "[22:32:40] WARNING: C:/Users/Administrator/workspace/xgboost-win64_release_1.4.0/src/learner.cc:573: \n",
      "Parameters: { \"scale_pos_weight\" } might not be used.\n",
      "\n",
      "  This may not be accurate due to some parameters are only used in language bindings but\n",
      "  passed down to XGBoost core.  Or some parameters are not used but slip through this\n",
      "  verification. Please open an issue if you find above cases.\n",
      "\n",
      "\n",
      "[22:32:40] WARNING: C:/Users/Administrator/workspace/xgboost-win64_release_1.4.0/src/learner.cc:1095: Starting in XGBoost 1.3.0, the default evaluation metric used with the objective 'multi:softprob' was changed from 'merror' to 'mlogloss'. Explicitly set eval_metric if you'd like to restore the old behavior.\n",
      "----XGBoost 분류 모델 평가----\n",
      "Confusion Matrix\n",
      "[[ 2  3  3  1  2]\n",
      " [ 4  4  6  1  2]\n",
      " [ 1  5  4  1  8]\n",
      " [ 0  4  3  8  9]\n",
      " [ 1  1  0  4 52]]\n",
      "정획도(accuracy): 0.5426, 정밀도(precision): 0.5426, 재현율(recall): 0.5426, f1_score: 0.5426\n"
     ]
    }
   ],
   "source": [
    "# 모델 학습\n",
    "xgb_wrapper = XGBClassifier(random_state = 0,colsample_bytree = 0.5, gamma =  0.25,\\\n",
    "                            learning_rate =  0.1, max_depth =  4, reg_lambda =  1,\\\n",
    "                            scale_pos_weight =  1, subsample =  0.8 )\n",
    "xgb_wrapper.fit(X_train, y_train)\n",
    "\n",
    "# predict, predict_proba 추출\n",
    "pred = xgb_wrapper.predict(X_test)\n",
    "print(\"----XGBoost 분류 모델 평가----\")\n",
    "get_clf_eval(y_test,pred)"
   ]
  },
  {
   "cell_type": "markdown",
   "id": "b685360e",
   "metadata": {},
   "source": [
    "### feature importance 시각화"
   ]
  },
  {
   "cell_type": "code",
   "execution_count": 210,
   "id": "a95d3746",
   "metadata": {
    "scrolled": false
   },
   "outputs": [
    {
     "data": {
      "image/png": "[encoded data removed]",
      "text/plain": [
       "<Figure size 576x432 with 1 Axes>"
      ]
     },
     "metadata": {
      "needs_background": "light"
     },
     "output_type": "display_data"
    }
   ],
   "source": [
    "import matplotlib.pyplot as plt\n",
    "import seaborn as sns\n",
    "%matplotlib inline\n",
    "\n",
    "ftr_importances_values = xgb_wrapper.feature_importances_\n",
    "ftr_importances = pd.Series(ftr_importances_values,index=X_train.columns  )\n",
    "ftr_top20 = ftr_importances.sort_values(ascending=False)[:20]\n",
    "\n",
    "plt.figure(figsize=(8,6))\n",
    "plt.title('Feature importances Top 20')\n",
    "sns.barplot(x=ftr_top20 , y = ftr_top20.index)\n",
    "plt.show()"
   ]
  },
  {
   "cell_type": "markdown",
   "id": "c2d35b66",
   "metadata": {},
   "source": [
    "### feature importance 값"
   ]
  },
  {
   "cell_type": "code",
   "execution_count": 212,
   "id": "98730c9d",
   "metadata": {},
   "outputs": [
    {
     "data": {
      "text/plain": [
       "3개월 평균 일중변동률         0.047444\n",
       "3개월 후 EV/EBITDA      0.036677\n",
       "3개월 후 PBR            0.033514\n",
       "공모가                  0.030720\n",
       "1개월 평균 일중변동률         0.029529\n",
       "3개월 후 PER            0.029476\n",
       "IPO_PBR              0.027818\n",
       "1개월 후 EV/EBITDA      0.027040\n",
       "3개월 평균 거래량회전율        0.026295\n",
       "IPO_PER              0.026128\n",
       "1개월 후 PBR            0.025601\n",
       "1개월 평균 거래량회전율        0.025353\n",
       "IPO_EV/EBITDA        0.024903\n",
       "1개월 후 PER            0.024533\n",
       "상장일 기준 국고3년시장금리      0.024250\n",
       "ROE                  0.023579\n",
       "1년전 대비 시장 회전율        0.023069\n",
       "3개월 평균 개인 매도수량 비중    0.022753\n",
       "1달 후 시장수익률           0.022668\n",
       "1개월 평균 개인 매도수량 비중    0.021913\n",
       "매출총이익률               0.021800\n",
       "유동비율                 0.021497\n",
       "3달 후 광의통화 증감률        0.021414\n",
       "1년 전 대비 고객예탁금 증감률    0.021334\n",
       "3달 후 시장수익률           0.021105\n",
       "3달 후 고객예탁금 증감률       0.021049\n",
       "1달 후 광의통화 증감률        0.020935\n",
       "매출액증가율               0.020899\n",
       "3개월 시가총액회전율          0.020742\n",
       "1달 후 고객예탁금 증감률       0.020441\n",
       "3달 후 시장 회전율          0.020271\n",
       "영업이익률                0.019988\n",
       "3개월 평균 개인 매수수량 비중    0.019711\n",
       "당좌비율                 0.019387\n",
       "1개월 평균 개인 매수수량 비중    0.018985\n",
       "1년 전 대비 시장수익률        0.018685\n",
       "부채비율                 0.018447\n",
       "1개월 시가총액회전율          0.018262\n",
       "매출채권회전율              0.017625\n",
       "상장주식수                0.017082\n",
       "1년 전 대비 광의통화 증감률     0.015939\n",
       "영업이익증가율              0.015596\n",
       "1달 후 시장 회전율          0.015543\n",
       "dtype: float32"
      ]
     },
     "execution_count": 212,
     "metadata": {},
     "output_type": "execute_result"
    }
   ],
   "source": [
    "ftr_importances.sort_values(ascending=False)"
   ]
  },
  {
   "cell_type": "markdown",
   "id": "c2765bdb",
   "metadata": {},
   "source": [
    "## LGBM"
   ]
  },
  {
   "cell_type": "code",
   "execution_count": 213,
   "id": "63bb6617",
   "metadata": {
    "scrolled": false
   },
   "outputs": [
    {
     "name": "stdout",
     "output_type": "stream",
     "text": [
      "[1]\tvalid_0's multi_logloss: 1.38893\n",
      "Training until validation scores don't improve for 100 rounds\n",
      "[2]\tvalid_0's multi_logloss: 1.3504\n",
      "[3]\tvalid_0's multi_logloss: 1.31655\n",
      "[4]\tvalid_0's multi_logloss: 1.29155\n",
      "[5]\tvalid_0's multi_logloss: 1.2686\n",
      "[6]\tvalid_0's multi_logloss: 1.2559\n",
      "[7]\tvalid_0's multi_logloss: 1.24325\n",
      "[8]\tvalid_0's multi_logloss: 1.24285\n",
      "[9]\tvalid_0's multi_logloss: 1.23854\n",
      "[10]\tvalid_0's multi_logloss: 1.23683\n",
      "[11]\tvalid_0's multi_logloss: 1.23067\n",
      "[12]\tvalid_0's multi_logloss: 1.22685\n",
      "[13]\tvalid_0's multi_logloss: 1.22037\n",
      "[14]\tvalid_0's multi_logloss: 1.2232\n",
      "[15]\tvalid_0's multi_logloss: 1.22941\n",
      "[16]\tvalid_0's multi_logloss: 1.23067\n",
      "[17]\tvalid_0's multi_logloss: 1.23043\n",
      "[18]\tvalid_0's multi_logloss: 1.2383\n",
      "[19]\tvalid_0's multi_logloss: 1.24617\n",
      "[20]\tvalid_0's multi_logloss: 1.25246\n",
      "[21]\tvalid_0's multi_logloss: 1.25426\n",
      "[22]\tvalid_0's multi_logloss: 1.2679\n",
      "[23]\tvalid_0's multi_logloss: 1.26504\n",
      "[24]\tvalid_0's multi_logloss: 1.27121\n",
      "[25]\tvalid_0's multi_logloss: 1.27731\n",
      "[26]\tvalid_0's multi_logloss: 1.28266\n",
      "[27]\tvalid_0's multi_logloss: 1.29105\n",
      "[28]\tvalid_0's multi_logloss: 1.29916\n",
      "[29]\tvalid_0's multi_logloss: 1.30908\n",
      "[30]\tvalid_0's multi_logloss: 1.31479\n",
      "[31]\tvalid_0's multi_logloss: 1.31863\n",
      "[32]\tvalid_0's multi_logloss: 1.32695\n",
      "[33]\tvalid_0's multi_logloss: 1.32963\n",
      "[34]\tvalid_0's multi_logloss: 1.33698\n",
      "[35]\tvalid_0's multi_logloss: 1.33938\n",
      "[36]\tvalid_0's multi_logloss: 1.34153\n",
      "[37]\tvalid_0's multi_logloss: 1.35173\n",
      "[38]\tvalid_0's multi_logloss: 1.36102\n",
      "[39]\tvalid_0's multi_logloss: 1.37313\n",
      "[40]\tvalid_0's multi_logloss: 1.38094\n",
      "[41]\tvalid_0's multi_logloss: 1.38489\n",
      "[42]\tvalid_0's multi_logloss: 1.39365\n",
      "[43]\tvalid_0's multi_logloss: 1.40427\n",
      "[44]\tvalid_0's multi_logloss: 1.41053\n",
      "[45]\tvalid_0's multi_logloss: 1.41622\n",
      "[46]\tvalid_0's multi_logloss: 1.42514\n",
      "[47]\tvalid_0's multi_logloss: 1.43333\n",
      "[48]\tvalid_0's multi_logloss: 1.43741\n",
      "[49]\tvalid_0's multi_logloss: 1.4483\n",
      "[50]\tvalid_0's multi_logloss: 1.45111\n",
      "[51]\tvalid_0's multi_logloss: 1.45068\n",
      "[52]\tvalid_0's multi_logloss: 1.4616\n",
      "[53]\tvalid_0's multi_logloss: 1.46486\n",
      "[54]\tvalid_0's multi_logloss: 1.47294\n",
      "[55]\tvalid_0's multi_logloss: 1.4841\n",
      "[56]\tvalid_0's multi_logloss: 1.49266\n",
      "[57]\tvalid_0's multi_logloss: 1.49843\n",
      "[58]\tvalid_0's multi_logloss: 1.50651\n",
      "[59]\tvalid_0's multi_logloss: 1.51822\n",
      "[60]\tvalid_0's multi_logloss: 1.52165\n",
      "[61]\tvalid_0's multi_logloss: 1.5312\n",
      "[62]\tvalid_0's multi_logloss: 1.53564\n",
      "[63]\tvalid_0's multi_logloss: 1.54821\n",
      "[64]\tvalid_0's multi_logloss: 1.54762\n",
      "[65]\tvalid_0's multi_logloss: 1.55489\n",
      "[66]\tvalid_0's multi_logloss: 1.55848\n",
      "[67]\tvalid_0's multi_logloss: 1.56145\n",
      "[68]\tvalid_0's multi_logloss: 1.57199\n",
      "[69]\tvalid_0's multi_logloss: 1.58276\n",
      "[70]\tvalid_0's multi_logloss: 1.59135\n",
      "[71]\tvalid_0's multi_logloss: 1.59983\n",
      "[72]\tvalid_0's multi_logloss: 1.61035\n",
      "[73]\tvalid_0's multi_logloss: 1.6248\n",
      "[74]\tvalid_0's multi_logloss: 1.63214\n",
      "[75]\tvalid_0's multi_logloss: 1.63711\n",
      "[76]\tvalid_0's multi_logloss: 1.64046\n",
      "[77]\tvalid_0's multi_logloss: 1.64791\n",
      "[78]\tvalid_0's multi_logloss: 1.65809\n",
      "[79]\tvalid_0's multi_logloss: 1.66257\n",
      "[80]\tvalid_0's multi_logloss: 1.67491\n",
      "[81]\tvalid_0's multi_logloss: 1.69008\n",
      "[82]\tvalid_0's multi_logloss: 1.7031\n",
      "[83]\tvalid_0's multi_logloss: 1.71727\n",
      "[84]\tvalid_0's multi_logloss: 1.72029\n",
      "[85]\tvalid_0's multi_logloss: 1.72849\n",
      "[86]\tvalid_0's multi_logloss: 1.74159\n",
      "[87]\tvalid_0's multi_logloss: 1.75417\n",
      "[88]\tvalid_0's multi_logloss: 1.75889\n",
      "[89]\tvalid_0's multi_logloss: 1.76501\n",
      "[90]\tvalid_0's multi_logloss: 1.77362\n",
      "[91]\tvalid_0's multi_logloss: 1.78973\n",
      "[92]\tvalid_0's multi_logloss: 1.80439\n",
      "[93]\tvalid_0's multi_logloss: 1.81555\n",
      "[94]\tvalid_0's multi_logloss: 1.82183\n",
      "[95]\tvalid_0's multi_logloss: 1.83323\n",
      "[96]\tvalid_0's multi_logloss: 1.84106\n",
      "[97]\tvalid_0's multi_logloss: 1.85168\n",
      "[98]\tvalid_0's multi_logloss: 1.85609\n",
      "[99]\tvalid_0's multi_logloss: 1.86557\n",
      "[100]\tvalid_0's multi_logloss: 1.87294\n",
      "Did not meet early stopping. Best iteration is:\n",
      "[13]\tvalid_0's multi_logloss: 1.22037\n",
      "----LGBM 분류 모델 평가----\n",
      "Confusion Matrix\n",
      "[[ 2  3  2  0  4]\n",
      " [ 2  5  3  3  4]\n",
      " [ 0  8  1  2  8]\n",
      " [ 0  2  3  9 10]\n",
      " [ 2  1  1  4 50]]\n",
      "정획도(accuracy): 0.5194, 정밀도(precision): 0.5194, 재현율(recall): 0.5194, f1_score: 0.5194\n"
     ]
    }
   ],
   "source": [
    "# LGBM 분류기 객체 생성\n",
    "lgbm_wrapper = LGBMClassifier(random_state = 0)\n",
    "\n",
    "# 조기 중단 기능에 필요한 파라미터 정의\n",
    "evals = [(X_test, y_test)]\n",
    "lgbm_wrapper.fit(X_train, y_train, early_stopping_rounds=100, eval_metric='logloss', eval_set=evals, verbose=True)\n",
    "\n",
    "\n",
    "# predict, predict_proba 추출\n",
    "pred = lgbm_wrapper.predict(X_test)\n",
    "print(\"----LGBM 분류 모델 평가----\")\n",
    "get_clf_eval(y_test,pred)"
   ]
  },
  {
   "cell_type": "markdown",
   "id": "1226bd32",
   "metadata": {},
   "source": [
    "### 하이퍼 파라미터 튜닝"
   ]
  },
  {
   "cell_type": "code",
   "execution_count": 219,
   "id": "41862af0",
   "metadata": {},
   "outputs": [],
   "source": [
    "param_grid = {\n",
    "    'num_leaves': [31, 127,400],\n",
    "    'reg_alpha': [0.1, 0.5],\n",
    "    'min_data_in_leaf': [30, 50, 100, 300, 400],\n",
    "    'lambda_l1': [0, 1, 1.5],\n",
    "    'lambda_l2': [0, 1]\n",
    "    }"
   ]
  },
  {
   "cell_type": "code",
   "execution_count": 220,
   "id": "947125c6",
   "metadata": {
    "scrolled": true
   },
   "outputs": [
    {
     "data": {
      "text/plain": [
       "GridSearchCV(cv=3,\n",
       "             estimator=LGBMClassifier(learning_rate=0.01, num_boost_round=2000,\n",
       "                                      objective='multi:softprob'),\n",
       "             n_jobs=-1,\n",
       "             param_grid={'lambda_l1': [0, 1, 1.5], 'lambda_l2': [0, 1],\n",
       "                         'min_data_in_leaf': [30, 50, 100, 300, 400],\n",
       "                         'num_leaves': [31, 127, 400],\n",
       "                         'reg_alpha': [0.1, 0.5]},\n",
       "             scoring='accuracy')"
      ]
     },
     "execution_count": 220,
     "metadata": {},
     "output_type": "execute_result"
    }
   ],
   "source": [
    "lgbm_wrapper = LGBMClassifier(boosting_type='gbdt' , objective =\"multi:softprob\", num_boost_round=2000, learning_rate=0.01)\n",
    "\n",
    "grid_cv = GridSearchCV(lgbm_wrapper, param_grid, n_jobs=-1, cv=3, scoring=\"accuracy\")\n",
    "\n",
    "# Fit\n",
    "grid_cv.fit(X_train, y_train)"
   ]
  },
  {
   "cell_type": "code",
   "execution_count": 221,
   "id": "364c2784",
   "metadata": {},
   "outputs": [
    {
     "name": "stdout",
     "output_type": "stream",
     "text": [
      "최적 하이퍼 파라미터:\n",
      " {'lambda_l1': 0, 'lambda_l2': 1, 'min_data_in_leaf': 50, 'num_leaves': 31, 'reg_alpha': 0.1}\n",
      "최고 예측 정확도: 0.4932\n"
     ]
    }
   ],
   "source": [
    "print('최적 하이퍼 파라미터:\\n', grid_cv.best_params_)\n",
    "print('최고 예측 정확도: {0:.4f}'.format(grid_cv.best_score_))"
   ]
  },
  {
   "cell_type": "markdown",
   "id": "d6b447ca",
   "metadata": {},
   "source": [
    "### 튜닝된 파라미터로 재실행"
   ]
  },
  {
   "cell_type": "code",
   "execution_count": 222,
   "id": "28606ab8",
   "metadata": {
    "scrolled": true
   },
   "outputs": [
    {
     "name": "stdout",
     "output_type": "stream",
     "text": [
      "----lgbm  분류 모델 평가----\n",
      "Confusion Matrix\n",
      "[[ 4  4  1  1  1]\n",
      " [ 3  6  2  4  2]\n",
      " [ 1  6  2  1  9]\n",
      " [ 0  3  3  7 11]\n",
      " [ 1  2  4  5 46]]\n",
      "정획도(accuracy): 0.5039, 정밀도(precision): 0.5039, 재현율(recall): 0.5039, f1_score: 0.5039\n"
     ]
    }
   ],
   "source": [
    "# 모델 학습\n",
    "lgbm_wrapper = LGBMClassifier(random_state = 0,lamnda_l1 = 0 , lamda_l2 = 1, min_data_in_leaf = 50 , num_leaves = 31, reg_alpha = 0.1)\n",
    "lgbm_wrapper.fit(X_train, y_train)\n",
    "\n",
    "# predict, predict_proba 추출\n",
    "pred = lgbm_wrapper.predict(X_test)\n",
    "print(\"----lgbm  분류 모델 평가----\")\n",
    "get_clf_eval(y_test,pred)"
   ]
  },
  {
   "cell_type": "markdown",
   "id": "0b45285d",
   "metadata": {},
   "source": [
    "### ???!!!"
   ]
  },
  {
   "cell_type": "markdown",
   "id": "b2081243",
   "metadata": {},
   "source": [
    "### feature importance 시각화"
   ]
  },
  {
   "cell_type": "code",
   "execution_count": 223,
   "id": "6a1a2aae",
   "metadata": {
    "scrolled": false
   },
   "outputs": [
    {
     "data": {
      "image/png": "[encoded data removed]",
      "text/plain": [
       "<Figure size 576x432 with 1 Axes>"
      ]
     },
     "metadata": {
      "needs_background": "light"
     },
     "output_type": "display_data"
    }
   ],
   "source": [
    "import matplotlib.pyplot as plt\n",
    "import seaborn as sns\n",
    "%matplotlib inline\n",
    "\n",
    "ftr_importances_values = lgbm_wrapper.feature_importances_\n",
    "ftr_importances = pd.Series(ftr_importances_values,index=X_train.columns  )\n",
    "ftr_top20 = ftr_importances.sort_values(ascending=False)[:20]\n",
    "\n",
    "plt.figure(figsize=(8,6))\n",
    "plt.title('Feature importances Top 20')\n",
    "sns.barplot(x=ftr_top20 , y = ftr_top20.index)\n",
    "plt.show()"
   ]
  },
  {
   "cell_type": "markdown",
   "id": "f25a3a12",
   "metadata": {},
   "source": [
    "### feature_importance 값"
   ]
  },
  {
   "cell_type": "code",
   "execution_count": 224,
   "id": "c68a89c3",
   "metadata": {},
   "outputs": [
    {
     "data": {
      "text/plain": [
       "공모가                  157\n",
       "상장주식수                142\n",
       "IPO_PBR              134\n",
       "매출액증가율               126\n",
       "3달 후 고객예탁금 증감률       125\n",
       "매출채권회전율              113\n",
       "3달 후 시장수익률           112\n",
       "1달 후 시장수익률           104\n",
       "3개월 후 EV/EBITDA      103\n",
       "1개월 평균 일중변동률         102\n",
       "3개월 후 PBR            101\n",
       "3개월 평균 일중변동률         100\n",
       "IPO_EV/EBITDA         99\n",
       "매출총이익률                95\n",
       "영업이익증가율               95\n",
       "3개월 후 PER             94\n",
       "IPO_PER               91\n",
       "1개월 평균 개인 매도수량 비중     89\n",
       "1달 후 고객예탁금 증감률        86\n",
       "1년 전 대비 고객예탁금 증감률     83\n",
       "1개월 후 PBR             79\n",
       "상장일 기준 국고3년시장금리       79\n",
       "3개월 평균 개인 매도수량 비중     78\n",
       "ROE                   78\n",
       "유동비율                  77\n",
       "3달 후 광의통화 증감률         75\n",
       "1년전 대비 시장 회전율         74\n",
       "1년 전 대비 시장수익률         73\n",
       "당좌비율                  73\n",
       "부채비율                  65\n",
       "1개월 평균 거래량회전율         63\n",
       "3개월 평균 개인 매수수량 비중     62\n",
       "1개월 후 EV/EBITDA       52\n",
       "1년 전 대비 광의통화 증감률      52\n",
       "1달 후 광의통화 증감률         49\n",
       "1개월 평균 개인 매수수량 비중     48\n",
       "1개월 후 PER             47\n",
       "3개월 평균 거래량회전율         44\n",
       "1달 후 시장 회전율           40\n",
       "3개월 시가총액회전율           37\n",
       "3달 후 시장 회전율           37\n",
       "영업이익률                 33\n",
       "1개월 시가총액회전율           25\n",
       "dtype: int32"
      ]
     },
     "execution_count": 224,
     "metadata": {},
     "output_type": "execute_result"
    }
   ],
   "source": [
    "ftr_importances.sort_values(ascending=False)"
   ]
  },
  {
   "cell_type": "code",
   "execution_count": null,
   "id": "383f9c0e",
   "metadata": {},
   "outputs": [],
   "source": []
  },
  {
   "cell_type": "code",
   "execution_count": null,
   "id": "599a6d0b",
   "metadata": {},
   "outputs": [],
   "source": []
  },
  {
   "cell_type": "code",
   "execution_count": null,
   "id": "a72ed600",
   "metadata": {},
   "outputs": [],
   "source": []
  }
 ],
 "metadata": {
  "kernelspec": {
   "display_name": "Python 3",
   "language": "python",
   "name": "python3"
  },
  "language_info": {
   "codemirror_mode": {
    "name": "ipython",
    "version": 3
   },
   "file_extension": ".py",
   "mimetype": "text/x-python",
   "name": "python",
   "nbconvert_exporter": "python",
   "pygments_lexer": "ipython3",
   "version": "3.6.10"
  },
  "toc": {
   "base_numbering": 1,
   "nav_menu": {},
   "number_sections": true,
   "sideBar": true,
   "skip_h1_title": false,
   "title_cell": "Table of Contents",
   "title_sidebar": "Contents",
   "toc_cell": false,
   "toc_position": {
    "height": "calc(100% - 180px)",
    "left": "10px",
    "top": "150px",
    "width": "384px"
   },
   "toc_section_display": true,
   "toc_window_display": true
  }
 },
 "nbformat": 4,
 "nbformat_minor": 5
}
