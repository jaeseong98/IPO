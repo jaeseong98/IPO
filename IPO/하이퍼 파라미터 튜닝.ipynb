{
 "cells": [
  {
   "cell_type": "code",
   "execution_count": 7,
   "id": "4d231fb5",
   "metadata": {},
   "outputs": [],
   "source": [
    "import warnings\n",
    "warnings.filterwarnings('ignore')\n",
    "import pandas as pd\n",
    "import numpy as np\n",
    "import copy\n",
    "\n",
    "#시각화\n",
    "import matplotlib.pyplot as plt\n",
    "import seaborn as sns\n",
    "\n",
    "\n",
    "from sklearn.model_selection import train_test_split\n",
    "from sklearn.metrics import *\n",
    "\n",
    "##알고리즘 \n",
    "\n",
    "from sklearn.ensemble import RandomForestClassifier\n",
    "from xgboost import XGBClassifier\n",
    "from lightgbm import LGBMClassifier\n",
    "\n",
    "## 모듈, 함수 가져오기\n",
    "from Module.Preprocessing import *\n",
    "from Module.Model import *"
   ]
  },
  {
   "cell_type": "code",
   "execution_count": 35,
   "id": "906446f6",
   "metadata": {},
   "outputs": [],
   "source": [
    "import matplotlib # 글자 깨짐 방지 폰트설정\n",
    "from matplotlib import font_manager, rc\n",
    "import platform\n",
    "\n",
    "if platform.system() == 'Windows':\n",
    "# 윈도우인 경우\n",
    "    font_name = font_manager.FontProperties(fname=\"c:/Windows/Fonts/malgun.ttf\").get_name()\n",
    "    rc('font', family=font_name)\n",
    "else:    \n",
    "# Mac 인 경우\n",
    "    rc('font', family='AppleGothic')\n",
    "    \n",
    "matplotlib.rcParams['axes.unicode_minus'] = False   \n",
    "#그래프에서 마이너스 기호가 표시되도록 하는 설정입니다."
   ]
  },
  {
   "cell_type": "markdown",
   "id": "e1e783f7",
   "metadata": {},
   "source": [
    "# 데이터"
   ]
  },
  {
   "cell_type": "markdown",
   "id": "393c26b3",
   "metadata": {},
   "source": [
    "## 데이터 불러오기"
   ]
  },
  {
   "cell_type": "code",
   "execution_count": 11,
   "id": "f985dee8",
   "metadata": {},
   "outputs": [],
   "source": [
    "df_0 = pd.read_csv(\"d:/공모전/IPO/IPO/CleanData/X_train_Before_IPO.csv\",encoding = 'cp949')\n",
    "df = df_0.drop(['공모가 대비 3개월 수익률','공모가 대비 6개월 수익률'],axis =1)"
   ]
  },
  {
   "cell_type": "code",
   "execution_count": 13,
   "id": "55fcb2be",
   "metadata": {},
   "outputs": [],
   "source": [
    "## 기본 전처리\n",
    "df['상장일'] = pd.to_datetime(df['상장일'])\n",
    "df = df.set_index(['상장일'])\n",
    "df = df.drop(['종목명','공모 시가총액'],axis = 1) ## 나중에 카테고리 진행할려면 남겨줄 것\n",
    "df['Cat'] = Cut(df['공모가 대비 1개월 수익률'],[ -0.1, 0.1, 0.2])"
   ]
  },
  {
   "cell_type": "code",
   "execution_count": 14,
   "id": "1555e780",
   "metadata": {},
   "outputs": [
    {
     "name": "stdout",
     "output_type": "stream",
     "text": [
      "<class 'pandas.core.frame.DataFrame'>\n",
      "DatetimeIndex: 622 entries, 2009-04-07 to 2021-03-24\n",
      "Data columns (total 12 columns):\n",
      " #   Column             Non-Null Count  Dtype   \n",
      "---  ------             --------------  -----   \n",
      " 0   매출총이익률             622 non-null    float64 \n",
      " 1   유동비율               622 non-null    float64 \n",
      " 2   부채비율               622 non-null    float64 \n",
      " 3   매출액증가율             622 non-null    float64 \n",
      " 4   IPO_PER            622 non-null    float64 \n",
      " 5   IPO_PBR            622 non-null    float64 \n",
      " 6   IPO_EV/EBITDA      622 non-null    float64 \n",
      " 7   1년 전 대비 시장수익률      622 non-null    float64 \n",
      " 8   1년 전 대비 고객예탁금 증감률  622 non-null    float64 \n",
      " 9   상장일 기준 국고3년시장금리    622 non-null    float64 \n",
      " 10  공모가 대비 1개월 수익률     622 non-null    float64 \n",
      " 11  Cat                622 non-null    category\n",
      "dtypes: category(1), float64(11)\n",
      "memory usage: 59.0 KB\n"
     ]
    }
   ],
   "source": [
    "df.info()"
   ]
  },
  {
   "cell_type": "code",
   "execution_count": 15,
   "id": "f6c80689",
   "metadata": {},
   "outputs": [],
   "source": [
    "X = df.drop([\"공모가 대비 1개월 수익률\",\"Cat\"],axis=1)\n",
    "y = df['Cat']"
   ]
  },
  {
   "cell_type": "code",
   "execution_count": 36,
   "id": "64fa49d3",
   "metadata": {},
   "outputs": [
    {
     "data": {
      "text/plain": [
       "<AxesSubplot:>"
      ]
     },
     "execution_count": 36,
     "metadata": {},
     "output_type": "execute_result"
    },
    {
     "data": {
      "image/png": "[encoded data removed]",
      "text/plain": [
       "<Figure size 648x648 with 2 Axes>"
      ]
     },
     "metadata": {
      "needs_background": "light"
     },
     "output_type": "display_data"
    }
   ],
   "source": [
    "plt.figure(figsize =(9,9))\n",
    "corr = df.corr()\n",
    "sns.heatmap(corr,cmap='RdBu')"
   ]
  },
  {
   "cell_type": "code",
   "execution_count": 19,
   "id": "913d40f2",
   "metadata": {},
   "outputs": [],
   "source": [
    "X_train, X_test, y_train, y_test = train_test_split(X, y,\\\n",
    "                                                    test_size=0.2,random_state=0)"
   ]
  },
  {
   "cell_type": "code",
   "execution_count": 20,
   "id": "78427332",
   "metadata": {
    "scrolled": false
   },
   "outputs": [],
   "source": [
    "from imblearn.over_sampling import SMOTE\n",
    "smote = SMOTE(random_state=0)\n",
    "X_train,y_train = smote.fit_resample(X_train,y_train)"
   ]
  },
  {
   "cell_type": "markdown",
   "id": "31a3b85a",
   "metadata": {},
   "source": [
    "# 모델링"
   ]
  },
  {
   "cell_type": "markdown",
   "id": "129126fe",
   "metadata": {},
   "source": [
    "## 랜덤포레스트"
   ]
  },
  {
   "cell_type": "code",
   "execution_count": 29,
   "id": "8f97d392",
   "metadata": {
    "scrolled": true
   },
   "outputs": [
    {
     "name": "stdout",
     "output_type": "stream",
     "text": [
      "----랜덤포레스트 분류 모델 평가----\n",
      "정확도(accuracy): 0.4320, 정밀도(precision): 0.4418, 재현율(recall): 0.4320, f1_score: 0.4353\n"
     ]
    }
   ],
   "source": [
    "# 랜덤 포레스트 학습 및 별도의 테스트 셋으로 예측 성능 평가\n",
    "rf_clf = RandomForestClassifier(random_state=0)\n",
    "rf_clf.fit(X_train , y_train)\n",
    "pred = rf_clf.predict(X_test)\n",
    "print(\"----랜덤포레스트 분류 모델 평가----\")\n",
    "get_clf_eval(y_test,pred)"
   ]
  },
  {
   "cell_type": "markdown",
   "id": "3ad553b0",
   "metadata": {},
   "source": [
    "### 하이퍼파라미터 튜닝"
   ]
  },
  {
   "cell_type": "code",
   "execution_count": 30,
   "id": "61dc9825",
   "metadata": {
    "scrolled": false
   },
   "outputs": [
    {
     "name": "stdout",
     "output_type": "stream",
     "text": [
      "최적 하이퍼 파라미터:\n",
      " {'max_depth': 5, 'min_samples_leaf': 1, 'min_samples_split': 2, 'n_estimators': 200}\n",
      "최고 예측 정확도: 0.5409\n"
     ]
    }
   ],
   "source": [
    "from sklearn.model_selection import GridSearchCV\n",
    "\n",
    "params = {\n",
    "    'n_estimators': [10,200] ,\n",
    "    'max_depth' : [4,5], \n",
    "    'min_samples_leaf' : [1,2,3,4, 8, 12 ,16],\n",
    "    'min_samples_split' : [1,2,3,4, 8, 16,20]\n",
    "}\n",
    "# RandomForestClassifier 객체 생성 후 GridSearchCV 수행\n",
    "rf_clf = RandomForestClassifier(random_state=0, n_jobs=-1)\n",
    "grid_cv = GridSearchCV(rf_clf , param_grid=params , cv=5, n_jobs=-1 )\n",
    "grid_cv.fit(X_train , y_train)\n",
    "\n",
    "print('최적 하이퍼 파라미터:\\n', grid_cv.best_params_)\n",
    "print('최고 예측 정확도: {0:.4f}'.format(grid_cv.best_score_))"
   ]
  },
  {
   "cell_type": "markdown",
   "id": "a68f3483",
   "metadata": {},
   "source": [
    "### 튜닝된 파라미터로 재실행"
   ]
  },
  {
   "cell_type": "code",
   "execution_count": 32,
   "id": "fc787cc6",
   "metadata": {
    "scrolled": true
   },
   "outputs": [
    {
     "name": "stdout",
     "output_type": "stream",
     "text": [
      "----랜덤포레스트 분류 모델 평가----\n",
      "정확도(accuracy): 0.3840, 정밀도(precision): 0.4121, 재현율(recall): 0.3840, f1_score: 0.3933\n"
     ]
    }
   ],
   "source": [
    "# 랜덤 포레스트 학습 및 별도의 테스트 셋으로 예측 성능 평가\n",
    "rf_clf_2 = RandomForestClassifier(random_state=0 , max_depth = 5, min_samples_leaf = 1 , min_samples_split =  2 , n_estimators = 200)\n",
    "rf_clf_2.fit(X_train , y_train)\n",
    "pred = rf_clf_2.predict(X_test)\n",
    "print(\"----랜덤포레스트 분류 모델 평가----\")\n",
    "get_clf_eval(y_test,pred)"
   ]
  },
  {
   "cell_type": "markdown",
   "id": "2a16e37e",
   "metadata": {},
   "source": [
    "### feature importance 시각화"
   ]
  },
  {
   "cell_type": "code",
   "execution_count": 40,
   "id": "567c5086",
   "metadata": {
    "scrolled": false
   },
   "outputs": [
    {
     "data": {
      "image/png": "[encoded data removed]",
      "text/plain": [
       "<Figure size 576x432 with 1 Axes>"
      ]
     },
     "metadata": {
      "needs_background": "light"
     },
     "output_type": "display_data"
    }
   ],
   "source": [
    "import matplotlib.pyplot as plt\n",
    "import seaborn as sns\n",
    "%matplotlib inline\n",
    "\n",
    "ftr_importances_values = rf_clf_2.feature_importances_\n",
    "ftr_importances = pd.Series(ftr_importances_values,index=X_train.columns  )\n",
    "ftr_top20 = ftr_importances.sort_values(ascending=False)[:20]\n",
    "\n",
    "plt.figure(figsize=(8,6))\n",
    "plt.title('Feature importances Top 20')\n",
    "sns.barplot(x=ftr_top20 , y = ftr_top20.index)\n",
    "plt.show()"
   ]
  },
  {
   "cell_type": "markdown",
   "id": "2636db7c",
   "metadata": {},
   "source": [
    "## XGBoost"
   ]
  },
  {
   "cell_type": "code",
   "execution_count": 42,
   "id": "a0fab6a4",
   "metadata": {
    "scrolled": false
   },
   "outputs": [
    {
     "name": "stdout",
     "output_type": "stream",
     "text": [
      "[16:59:24] WARNING: C:/Users/Administrator/workspace/xgboost-win64_release_1.4.0/src/learner.cc:1095: Starting in XGBoost 1.3.0, the default evaluation metric used with the objective 'multi:softprob' was changed from 'merror' to 'mlogloss'. Explicitly set eval_metric if you'd like to restore the old behavior.\n",
      "----XGBoost 분류 모델 평가----\n",
      "정확도(accuracy): 0.3840, 정밀도(precision): 0.3660, 재현율(recall): 0.3840, f1_score: 0.3723\n"
     ]
    }
   ],
   "source": [
    "# 모델 학습\n",
    "xgb_wrapper = XGBClassifier(random_state = 0)\n",
    "xgb_wrapper.fit(X_train, y_train)\n",
    "\n",
    "# predict  추출\n",
    "pred = xgb_wrapper.predict(X_test)\n",
    "print(\"----XGBoost 분류 모델 평가----\")\n",
    "get_clf_eval(y_test,pred)"
   ]
  },
  {
   "cell_type": "markdown",
   "id": "ecb940dc",
   "metadata": {},
   "source": [
    "### 하이퍼 파라미터 튜닝"
   ]
  },
  {
   "cell_type": "code",
   "execution_count": 43,
   "id": "d144b57e",
   "metadata": {
    "scrolled": true
   },
   "outputs": [],
   "source": [
    "param_grid = {\n",
    "    \"max_depth\": [3, 4, 5, 7],\n",
    "    \"learning_rate\": [0.1, 0.01, 0.05],\n",
    "    \"gamma\": [0, 0.25, 1],\n",
    "    \"reg_lambda\": [0, 1, 10],\n",
    "    \"subsample\": [0.8],\n",
    "    \"colsample_bytree\": [0.5]\n",
    "}"
   ]
  },
  {
   "cell_type": "code",
   "execution_count": 44,
   "id": "65382bf5",
   "metadata": {},
   "outputs": [
    {
     "name": "stdout",
     "output_type": "stream",
     "text": [
      "[17:01:14] WARNING: C:/Users/Administrator/workspace/xgboost-win64_release_1.4.0/src/learner.cc:1095: Starting in XGBoost 1.3.0, the default evaluation metric used with the objective 'multi:softprob' was changed from 'merror' to 'mlogloss'. Explicitly set eval_metric if you'd like to restore the old behavior.\n"
     ]
    },
    {
     "data": {
      "text/plain": [
       "GridSearchCV(cv=5,\n",
       "             estimator=XGBClassifier(base_score=None, booster=None,\n",
       "                                     colsample_bylevel=None,\n",
       "                                     colsample_bynode=None,\n",
       "                                     colsample_bytree=None, gamma=None,\n",
       "                                     gpu_id=None, importance_type='gain',\n",
       "                                     interaction_constraints=None,\n",
       "                                     learning_rate=None, max_delta_step=None,\n",
       "                                     max_depth=None, min_child_weight=None,\n",
       "                                     missing=nan, monotone_constraints=None,\n",
       "                                     n_estimators=100, n_jobs...\n",
       "                                     objective='multi:softprob',\n",
       "                                     random_state=None, reg_alpha=None,\n",
       "                                     reg_lambda=None, scale_pos_weight=None,\n",
       "                                     subsample=None, tree_method=None,\n",
       "                                     validate_parameters=None, verbosity=None),\n",
       "             n_jobs=-1,\n",
       "             param_grid={'colsample_bytree': [0.5], 'gamma': [0, 0.25, 1],\n",
       "                         'learning_rate': [0.1, 0.01, 0.05],\n",
       "                         'max_depth': [3, 4, 5, 7], 'reg_lambda': [0, 1, 10],\n",
       "                         'subsample': [0.8]},\n",
       "             scoring='accuracy')"
      ]
     },
     "execution_count": 44,
     "metadata": {},
     "output_type": "execute_result"
    }
   ],
   "source": [
    "# Init classifier\n",
    "xgb_cl = XGBClassifier(objective=\"multi:softprob\")\n",
    "\n",
    "# Init Grid Search\n",
    "grid_cv = GridSearchCV(xgb_cl, param_grid, n_jobs=-1, cv=5, scoring=\"accuracy\")\n",
    "\n",
    "# Fit\n",
    "grid_cv.fit(X_train, y_train)"
   ]
  },
  {
   "cell_type": "code",
   "execution_count": 45,
   "id": "c9fa91f3",
   "metadata": {
    "scrolled": true
   },
   "outputs": [
    {
     "name": "stdout",
     "output_type": "stream",
     "text": [
      "최적 하이퍼 파라미터:\n",
      " {'colsample_bytree': 0.5, 'gamma': 0, 'learning_rate': 0.1, 'max_depth': 7, 'reg_lambda': 1, 'subsample': 0.8}\n",
      "최고 예측 정확도: 0.6314\n"
     ]
    }
   ],
   "source": [
    "print('최적 하이퍼 파라미터:\\n', grid_cv.best_params_)\n",
    "print('최고 예측 정확도: {0:.4f}'.format(grid_cv.best_score_))"
   ]
  },
  {
   "cell_type": "markdown",
   "id": "834a1488",
   "metadata": {},
   "source": [
    "### 튜닝된 파라미터로 재실행"
   ]
  },
  {
   "cell_type": "code",
   "execution_count": 48,
   "id": "94e8bc89",
   "metadata": {},
   "outputs": [
    {
     "name": "stdout",
     "output_type": "stream",
     "text": [
      "[17:01:15] WARNING: C:/Users/Administrator/workspace/xgboost-win64_release_1.4.0/src/learner.cc:1095: Starting in XGBoost 1.3.0, the default evaluation metric used with the objective 'multi:softprob' was changed from 'merror' to 'mlogloss'. Explicitly set eval_metric if you'd like to restore the old behavior.\n",
      "----XGBoost 분류 모델 평가----\n",
      "정확도(accuracy): 0.4160, 정밀도(precision): 0.4316, 재현율(recall): 0.4160, f1_score: 0.4214\n"
     ]
    }
   ],
   "source": [
    "# 모델 학습\n",
    "xgb_wrapper = XGBClassifier(random_state = 0,colsample_bytree = 0.5, gamma =  0,\\\n",
    "                            learning_rate =  0.1, max_depth =  3, reg_lambda =  0, subsample =  0.8 )\n",
    "xgb_wrapper.fit(X_train, y_train)\n",
    "\n",
    "# predict, predict_proba 추출\n",
    "pred = xgb_wrapper.predict(X_test)\n",
    "print(\"----XGBoost 분류 모델 평가----\")\n",
    "get_clf_eval(y_test,pred)"
   ]
  },
  {
   "cell_type": "markdown",
   "id": "c61c666f",
   "metadata": {},
   "source": [
    "### 하이퍼 파라미터 변화 후"
   ]
  },
  {
   "cell_type": "code",
   "execution_count": 49,
   "id": "cc04fd0f",
   "metadata": {},
   "outputs": [],
   "source": [
    "# Insert the new fixed values to the grid\n",
    "param_grid[\"subsample\"] = (0.6,1.0)\n",
    "param_grid[\"colsample_bytree\"] = (0.5,1.0)\n",
    "\n",
    "# Give new value ranges to other params\n",
    "param_grid[\"gamma\"] = (0.01,0.25)\n",
    "param_grid[\"max_depth\"] = (5,10)\n",
    "param_grid[\"reg_lambda\"] = (0,10)\n",
    "param_grid[\"learning_rate\"] = (0.01,0.3, 0.5)"
   ]
  },
  {
   "cell_type": "code",
   "execution_count": 50,
   "id": "7d1cdab3",
   "metadata": {
    "scrolled": false
   },
   "outputs": [
    {
     "name": "stdout",
     "output_type": "stream",
     "text": [
      "[17:03:23] WARNING: C:/Users/Administrator/workspace/xgboost-win64_release_1.4.0/src/learner.cc:1095: Starting in XGBoost 1.3.0, the default evaluation metric used with the objective 'multi:softprob' was changed from 'merror' to 'mlogloss'. Explicitly set eval_metric if you'd like to restore the old behavior.\n"
     ]
    },
    {
     "data": {
      "text/plain": [
       "0.6326048615903689"
      ]
     },
     "execution_count": 50,
     "metadata": {},
     "output_type": "execute_result"
    }
   ],
   "source": [
    "grid_cv_2 = GridSearchCV(xgb_cl, param_grid, \n",
    "                         cv=5, scoring=\"accuracy\", n_jobs=-1)\n",
    "\n",
    "grid_cv_2.fit(X_train, y_train)\n",
    "\n",
    "grid_cv_2.best_score_"
   ]
  },
  {
   "cell_type": "code",
   "execution_count": 51,
   "id": "d5c4d695",
   "metadata": {},
   "outputs": [
    {
     "data": {
      "text/plain": [
       "{'colsample_bytree': 0.5,\n",
       " 'gamma': 0.01,\n",
       " 'learning_rate': 0.3,\n",
       " 'max_depth': 10,\n",
       " 'reg_lambda': 10,\n",
       " 'subsample': 1.0}"
      ]
     },
     "execution_count": 51,
     "metadata": {},
     "output_type": "execute_result"
    }
   ],
   "source": [
    "grid_cv_2.best_params_"
   ]
  },
  {
   "cell_type": "markdown",
   "id": "8682649b",
   "metadata": {},
   "source": [
    "### 튜닝된 파라미터로 재실행"
   ]
  },
  {
   "cell_type": "code",
   "execution_count": 52,
   "id": "94eeb4f0",
   "metadata": {
    "scrolled": true
   },
   "outputs": [
    {
     "name": "stdout",
     "output_type": "stream",
     "text": [
      "[17:03:24] WARNING: C:/Users/Administrator/workspace/xgboost-win64_release_1.4.0/src/learner.cc:1095: Starting in XGBoost 1.3.0, the default evaluation metric used with the objective 'multi:softprob' was changed from 'merror' to 'mlogloss'. Explicitly set eval_metric if you'd like to restore the old behavior.\n",
      "----XGBoost 분류 모델 평가----\n",
      "정확도(accuracy): 0.3520, 정밀도(precision): 0.4010, 재현율(recall): 0.3520, f1_score: 0.3643\n"
     ]
    }
   ],
   "source": [
    "# 모델 학습\n",
    "xgb_wrapper = XGBClassifier(random_state = 0,colsample_bytree = 1, gamma =  0.01,\\\n",
    "                            learning_rate =  0.01, max_depth =  4, reg_lambda =  0, subsample =  1)\n",
    "xgb_wrapper.fit(X_train, y_train)\n",
    "\n",
    "# predict, predict_proba 추출\n",
    "pred = xgb_wrapper.predict(X_test)\n",
    "print(\"----XGBoost 분류 모델 평가----\")\n",
    "get_clf_eval(y_test,pred)"
   ]
  },
  {
   "cell_type": "markdown",
   "id": "b685360e",
   "metadata": {},
   "source": [
    "### feature importance 시각화"
   ]
  },
  {
   "cell_type": "code",
   "execution_count": 53,
   "id": "a95d3746",
   "metadata": {
    "scrolled": false
   },
   "outputs": [
    {
     "data": {
      "image/png": "[encoded data removed]",
      "text/plain": [
       "<Figure size 576x432 with 1 Axes>"
      ]
     },
     "metadata": {
      "needs_background": "light"
     },
     "output_type": "display_data"
    }
   ],
   "source": [
    "import matplotlib.pyplot as plt\n",
    "import seaborn as sns\n",
    "%matplotlib inline\n",
    "\n",
    "ftr_importances_values = xgb_wrapper.feature_importances_\n",
    "ftr_importances = pd.Series(ftr_importances_values,index=X_train.columns  )\n",
    "ftr_top20 = ftr_importances.sort_values(ascending=False)[:20]\n",
    "\n",
    "plt.figure(figsize=(8,6))\n",
    "plt.title('Feature importances Top 20')\n",
    "sns.barplot(x=ftr_top20 , y = ftr_top20.index)\n",
    "plt.show()"
   ]
  },
  {
   "cell_type": "markdown",
   "id": "c2765bdb",
   "metadata": {},
   "source": [
    "## LGBM"
   ]
  },
  {
   "cell_type": "code",
   "execution_count": 54,
   "id": "63bb6617",
   "metadata": {
    "scrolled": false
   },
   "outputs": [
    {
     "name": "stdout",
     "output_type": "stream",
     "text": [
      "[1]\tvalid_0's multi_logloss: 1.35713\n",
      "Training until validation scores don't improve for 100 rounds\n",
      "[2]\tvalid_0's multi_logloss: 1.34607\n",
      "[3]\tvalid_0's multi_logloss: 1.34155\n",
      "[4]\tvalid_0's multi_logloss: 1.33611\n",
      "[5]\tvalid_0's multi_logloss: 1.33372\n",
      "[6]\tvalid_0's multi_logloss: 1.32496\n",
      "[7]\tvalid_0's multi_logloss: 1.32217\n",
      "[8]\tvalid_0's multi_logloss: 1.31783\n",
      "[9]\tvalid_0's multi_logloss: 1.3133\n",
      "[10]\tvalid_0's multi_logloss: 1.31897\n",
      "[11]\tvalid_0's multi_logloss: 1.3168\n",
      "[12]\tvalid_0's multi_logloss: 1.31853\n",
      "[13]\tvalid_0's multi_logloss: 1.31462\n",
      "[14]\tvalid_0's multi_logloss: 1.30682\n",
      "[15]\tvalid_0's multi_logloss: 1.31234\n",
      "[16]\tvalid_0's multi_logloss: 1.31913\n",
      "[17]\tvalid_0's multi_logloss: 1.32056\n",
      "[18]\tvalid_0's multi_logloss: 1.31968\n",
      "[19]\tvalid_0's multi_logloss: 1.3248\n",
      "[20]\tvalid_0's multi_logloss: 1.33631\n",
      "[21]\tvalid_0's multi_logloss: 1.34139\n",
      "[22]\tvalid_0's multi_logloss: 1.34507\n",
      "[23]\tvalid_0's multi_logloss: 1.34883\n",
      "[24]\tvalid_0's multi_logloss: 1.34865\n",
      "[25]\tvalid_0's multi_logloss: 1.35022\n",
      "[26]\tvalid_0's multi_logloss: 1.34635\n",
      "[27]\tvalid_0's multi_logloss: 1.35469\n",
      "[28]\tvalid_0's multi_logloss: 1.35475\n",
      "[29]\tvalid_0's multi_logloss: 1.35846\n",
      "[30]\tvalid_0's multi_logloss: 1.35885\n",
      "[31]\tvalid_0's multi_logloss: 1.36176\n",
      "[32]\tvalid_0's multi_logloss: 1.36313\n",
      "[33]\tvalid_0's multi_logloss: 1.36605\n",
      "[34]\tvalid_0's multi_logloss: 1.3687\n",
      "[35]\tvalid_0's multi_logloss: 1.37763\n",
      "[36]\tvalid_0's multi_logloss: 1.38468\n",
      "[37]\tvalid_0's multi_logloss: 1.39139\n",
      "[38]\tvalid_0's multi_logloss: 1.39783\n",
      "[39]\tvalid_0's multi_logloss: 1.39878\n",
      "[40]\tvalid_0's multi_logloss: 1.40416\n",
      "[41]\tvalid_0's multi_logloss: 1.40442\n",
      "[42]\tvalid_0's multi_logloss: 1.40879\n",
      "[43]\tvalid_0's multi_logloss: 1.40551\n",
      "[44]\tvalid_0's multi_logloss: 1.40805\n",
      "[45]\tvalid_0's multi_logloss: 1.4102\n",
      "[46]\tvalid_0's multi_logloss: 1.41207\n",
      "[47]\tvalid_0's multi_logloss: 1.41857\n",
      "[48]\tvalid_0's multi_logloss: 1.42528\n",
      "[49]\tvalid_0's multi_logloss: 1.42439\n",
      "[50]\tvalid_0's multi_logloss: 1.42874\n",
      "[51]\tvalid_0's multi_logloss: 1.43436\n",
      "[52]\tvalid_0's multi_logloss: 1.43661\n",
      "[53]\tvalid_0's multi_logloss: 1.43796\n",
      "[54]\tvalid_0's multi_logloss: 1.44827\n",
      "[55]\tvalid_0's multi_logloss: 1.44762\n",
      "[56]\tvalid_0's multi_logloss: 1.4448\n",
      "[57]\tvalid_0's multi_logloss: 1.45601\n",
      "[58]\tvalid_0's multi_logloss: 1.46002\n",
      "[59]\tvalid_0's multi_logloss: 1.45859\n",
      "[60]\tvalid_0's multi_logloss: 1.45863\n",
      "[61]\tvalid_0's multi_logloss: 1.46492\n",
      "[62]\tvalid_0's multi_logloss: 1.46933\n",
      "[63]\tvalid_0's multi_logloss: 1.47768\n",
      "[64]\tvalid_0's multi_logloss: 1.48107\n",
      "[65]\tvalid_0's multi_logloss: 1.48858\n",
      "[66]\tvalid_0's multi_logloss: 1.49304\n",
      "[67]\tvalid_0's multi_logloss: 1.49845\n",
      "[68]\tvalid_0's multi_logloss: 1.50124\n",
      "[69]\tvalid_0's multi_logloss: 1.50638\n",
      "[70]\tvalid_0's multi_logloss: 1.50858\n",
      "[71]\tvalid_0's multi_logloss: 1.51732\n",
      "[72]\tvalid_0's multi_logloss: 1.52194\n",
      "[73]\tvalid_0's multi_logloss: 1.5296\n",
      "[74]\tvalid_0's multi_logloss: 1.53291\n",
      "[75]\tvalid_0's multi_logloss: 1.54119\n",
      "[76]\tvalid_0's multi_logloss: 1.54175\n",
      "[77]\tvalid_0's multi_logloss: 1.55067\n",
      "[78]\tvalid_0's multi_logloss: 1.55779\n",
      "[79]\tvalid_0's multi_logloss: 1.56033\n",
      "[80]\tvalid_0's multi_logloss: 1.56833\n",
      "[81]\tvalid_0's multi_logloss: 1.57468\n",
      "[82]\tvalid_0's multi_logloss: 1.579\n",
      "[83]\tvalid_0's multi_logloss: 1.58508\n",
      "[84]\tvalid_0's multi_logloss: 1.58551\n",
      "[85]\tvalid_0's multi_logloss: 1.5887\n",
      "[86]\tvalid_0's multi_logloss: 1.592\n",
      "[87]\tvalid_0's multi_logloss: 1.59124\n",
      "[88]\tvalid_0's multi_logloss: 1.59895\n",
      "[89]\tvalid_0's multi_logloss: 1.609\n",
      "[90]\tvalid_0's multi_logloss: 1.61175\n",
      "[91]\tvalid_0's multi_logloss: 1.62342\n",
      "[92]\tvalid_0's multi_logloss: 1.62927\n",
      "[93]\tvalid_0's multi_logloss: 1.63561\n",
      "[94]\tvalid_0's multi_logloss: 1.64486\n",
      "[95]\tvalid_0's multi_logloss: 1.66191\n",
      "[96]\tvalid_0's multi_logloss: 1.66617\n",
      "[97]\tvalid_0's multi_logloss: 1.67609\n",
      "[98]\tvalid_0's multi_logloss: 1.68176\n",
      "[99]\tvalid_0's multi_logloss: 1.68807\n",
      "[100]\tvalid_0's multi_logloss: 1.69786\n",
      "Did not meet early stopping. Best iteration is:\n",
      "[14]\tvalid_0's multi_logloss: 1.30682\n",
      "----LGBM 분류 모델 평가----\n",
      "정확도(accuracy): 0.3360, 정밀도(precision): 0.3493, 재현율(recall): 0.3360, f1_score: 0.3397\n"
     ]
    }
   ],
   "source": [
    "# LGBM 분류기 객체 생성\n",
    "lgbm_wrapper = LGBMClassifier(random_state = 0)\n",
    "\n",
    "# 조기 중단 기능에 필요한 파라미터 정의\n",
    "evals = [(X_test, y_test)]\n",
    "lgbm_wrapper.fit(X_train, y_train, early_stopping_rounds=100, eval_metric='logloss', eval_set=evals, verbose=True)\n",
    "\n",
    "\n",
    "# predict, predict_proba 추출\n",
    "pred = lgbm_wrapper.predict(X_test)\n",
    "print(\"----LGBM 분류 모델 평가----\")\n",
    "get_clf_eval(y_test,pred)"
   ]
  },
  {
   "cell_type": "markdown",
   "id": "1226bd32",
   "metadata": {},
   "source": [
    "### 하이퍼 파라미터 튜닝"
   ]
  },
  {
   "cell_type": "code",
   "execution_count": 55,
   "id": "41862af0",
   "metadata": {},
   "outputs": [],
   "source": [
    "param_grid = {\n",
    "    'num_leaves': [31, 127,400],\n",
    "    'reg_alpha': [0.1, 0.5],\n",
    "    'min_data_in_leaf': [30, 50, 100, 300, 400],\n",
    "    'lambda_l1': [0, 1, 1.5],\n",
    "    'lambda_l2': [0, 1]\n",
    "    }"
   ]
  },
  {
   "cell_type": "code",
   "execution_count": 56,
   "id": "947125c6",
   "metadata": {
    "scrolled": true
   },
   "outputs": [
    {
     "name": "stdout",
     "output_type": "stream",
     "text": [
      "[LightGBM] [Warning] min_data_in_leaf is set=30, min_child_samples=20 will be ignored. Current value: min_data_in_leaf=30\n",
      "[LightGBM] [Warning] lambda_l1 is set=0, reg_alpha=0.1 will be ignored. Current value: lambda_l1=0\n",
      "[LightGBM] [Warning] lambda_l2 is set=0, reg_lambda=0.0 will be ignored. Current value: lambda_l2=0\n",
      "[LightGBM] [Warning] num_iterations is set=2000, num_boost_round=2000 will be ignored. Current value: num_iterations=2000\n"
     ]
    },
    {
     "data": {
      "text/plain": [
       "GridSearchCV(cv=3,\n",
       "             estimator=LGBMClassifier(learning_rate=0.01, num_boost_round=2000,\n",
       "                                      objective='multi:softprob'),\n",
       "             n_jobs=-1,\n",
       "             param_grid={'lambda_l1': [0, 1, 1.5], 'lambda_l2': [0, 1],\n",
       "                         'min_data_in_leaf': [30, 50, 100, 300, 400],\n",
       "                         'num_leaves': [31, 127, 400],\n",
       "                         'reg_alpha': [0.1, 0.5]},\n",
       "             scoring='accuracy')"
      ]
     },
     "execution_count": 56,
     "metadata": {},
     "output_type": "execute_result"
    }
   ],
   "source": [
    "lgbm_wrapper = LGBMClassifier(boosting_type='gbdt' , objective =\"multi:softprob\", num_boost_round=2000, learning_rate=0.01)\n",
    "\n",
    "grid_cv = GridSearchCV(lgbm_wrapper, param_grid, n_jobs=-1, cv=3, scoring=\"accuracy\")\n",
    "\n",
    "# Fit\n",
    "grid_cv.fit(X_train, y_train)"
   ]
  },
  {
   "cell_type": "code",
   "execution_count": 57,
   "id": "364c2784",
   "metadata": {},
   "outputs": [
    {
     "name": "stdout",
     "output_type": "stream",
     "text": [
      "최적 하이퍼 파라미터:\n",
      " {'lambda_l1': 0, 'lambda_l2': 0, 'min_data_in_leaf': 30, 'num_leaves': 31, 'reg_alpha': 0.1}\n",
      "최고 예측 정확도: 0.6263\n"
     ]
    }
   ],
   "source": [
    "print('최적 하이퍼 파라미터:\\n', grid_cv.best_params_)\n",
    "print('최고 예측 정확도: {0:.4f}'.format(grid_cv.best_score_))"
   ]
  },
  {
   "cell_type": "markdown",
   "id": "d6b447ca",
   "metadata": {},
   "source": [
    "### 튜닝된 파라미터로 재실행"
   ]
  },
  {
   "cell_type": "code",
   "execution_count": 58,
   "id": "28606ab8",
   "metadata": {
    "scrolled": true
   },
   "outputs": [
    {
     "name": "stdout",
     "output_type": "stream",
     "text": [
      "----lgbm  분류 모델 평가----\n",
      "정확도(accuracy): 0.3920, 정밀도(precision): 0.3885, 재현율(recall): 0.3920, f1_score: 0.3901\n"
     ]
    }
   ],
   "source": [
    "# 모델 학습\n",
    "lgbm_wrapper = LGBMClassifier(random_state = 0,lamnda_l1 = 0 , lamda_l2 = 1, min_data_in_leaf = 50 , num_leaves = 31, reg_alpha = 0.1)\n",
    "lgbm_wrapper.fit(X_train, y_train)\n",
    "\n",
    "# predict, predict_proba 추출\n",
    "pred = lgbm_wrapper.predict(X_test)\n",
    "print(\"----lgbm  분류 모델 평가----\")\n",
    "get_clf_eval(y_test,pred)"
   ]
  },
  {
   "cell_type": "markdown",
   "id": "b2081243",
   "metadata": {},
   "source": [
    "### feature importance 시각화"
   ]
  },
  {
   "cell_type": "code",
   "execution_count": 59,
   "id": "6a1a2aae",
   "metadata": {
    "scrolled": false
   },
   "outputs": [
    {
     "data": {
      "image/png": "[encoded data removed]",
      "text/plain": [
       "<Figure size 576x432 with 1 Axes>"
      ]
     },
     "metadata": {
      "needs_background": "light"
     },
     "output_type": "display_data"
    }
   ],
   "source": [
    "import matplotlib.pyplot as plt\n",
    "import seaborn as sns\n",
    "%matplotlib inline\n",
    "\n",
    "ftr_importances_values = lgbm_wrapper.feature_importances_\n",
    "ftr_importances = pd.Series(ftr_importances_values,index=X_train.columns  )\n",
    "ftr_top20 = ftr_importances.sort_values(ascending=False)[:20]\n",
    "\n",
    "plt.figure(figsize=(8,6))\n",
    "plt.title('Feature importances Top 20')\n",
    "sns.barplot(x=ftr_top20 , y = ftr_top20.index)\n",
    "plt.show()"
   ]
  }
 ],
 "metadata": {
  "kernelspec": {
   "display_name": "Python 3",
   "language": "python",
   "name": "python3"
  },
  "language_info": {
   "codemirror_mode": {
    "name": "ipython",
    "version": 3
   },
   "file_extension": ".py",
   "mimetype": "text/x-python",
   "name": "python",
   "nbconvert_exporter": "python",
   "pygments_lexer": "ipython3",
   "version": "3.6.10"
  },
  "toc": {
   "base_numbering": 1,
   "nav_menu": {},
   "number_sections": true,
   "sideBar": true,
   "skip_h1_title": false,
   "title_cell": "Table of Contents",
   "title_sidebar": "Contents",
   "toc_cell": false,
   "toc_position": {
    "height": "calc(100% - 180px)",
    "left": "10px",
    "top": "150px",
    "width": "384px"
   },
   "toc_section_display": true,
   "toc_window_display": false
  }
 },
 "nbformat": 4,
 "nbformat_minor": 5
}
