{
 "cells": [
  {
   "cell_type": "code",
   "execution_count": 2,
   "id": "06bcfef1",
   "metadata": {},
   "outputs": [],
   "source": [
    "import pandas as pd\n",
    "import numpy as np\n",
    "from dateutil.relativedelta import relativedelta\n",
    "from datetime import datetime\n",
    "from dateutil.parser import parse\n",
    "from Module.Preprocessing import *\n",
    "from Module.Model import *"
   ]
  },
  {
   "cell_type": "markdown",
   "id": "2a18716b",
   "metadata": {},
   "source": [
    "## 데이터 불러오기\n",
    "- ipo = IPO에 대한 간단한 데이터\n",
    "- trading = 종가,시가 등등의 거래정보에 대한 데이터\n",
    "- finance = 재무정보에 대한 데이터\n",
    "- market = 시장지수에 대한 데이터\n",
    "- stock = 상장주식수에 대한 데이터"
   ]
  },
  {
   "cell_type": "code",
   "execution_count": 4,
   "id": "fc7d3f18",
   "metadata": {
    "scrolled": false
   },
   "outputs": [],
   "source": [
    "ipo_kq = pd.read_csv(\"Data/KQ_IPO.csv\")\n",
    "trading_kq = pd.read_csv(\"d:/공모전/DATA/KQ_Trading.csv\")\n",
    "finance_kq= pd.read_csv(\"d:/공모전/DATA/finance_before.csv\", encoding = \"cp949\")\n",
    "market_kq = pd.read_csv(\"Data/KQ_Market.csv\")\n",
    "stock_kq = pd.read_csv(\"Data/StockNum.csv\",thousands=',')"
   ]
  },
  {
   "cell_type": "code",
   "execution_count": 5,
   "id": "db524404",
   "metadata": {},
   "outputs": [],
   "source": [
    "## 복사본 생성\n",
    "ipo = ipo_kq.copy()\n",
    "trading = trading_kq.copy()\n",
    "finance = finance_kq.copy()\n",
    "market = market_kq.copy()\n",
    "stock = stock_kq.copy()"
   ]
  },
  {
   "cell_type": "markdown",
   "id": "32e1819d",
   "metadata": {},
   "source": [
    "## 인덱스 전처리\n",
    "> 종목명과 종목마다 가진 변수들을 멀티인덱스 설정"
   ]
  },
  {
   "cell_type": "code",
   "execution_count": 4,
   "id": "2aaeace8",
   "metadata": {},
   "outputs": [],
   "source": [
    "ipo = ipo_processing(ipo)\n",
    "trading = FeatureDf_processing(trading)\n",
    "stock = FeatureDf_processing(stock)\n",
    "finance = FeatureDf_processing(finance)"
   ]
  },
  {
   "cell_type": "markdown",
   "id": "c32b3412",
   "metadata": {},
   "source": [
    "## 파이낸스 정보를 독립변수로 투입\n",
    "- MatchNew = finance에 있는 변수들을 독립변수로 투입\n",
    "- MatchItem_per/pbr/ev = per,pbr,ev에 대한 정보를 계산식으로 변수 생성"
   ]
  },
  {
   "cell_type": "code",
   "execution_count": 5,
   "id": "c253c04d",
   "metadata": {},
   "outputs": [],
   "source": [
    "Train_data = Matchitem_New(finance,ipo)\n",
    "\n",
    "## IPO_Per 계산 공식\n",
    "Train_data['IPO_PER'] = Train_data['공모가']/(Train_data['당기순이익']*1000/Train_data['상장주식수'])\n",
    "## IPO_Pbr\n",
    "Train_data['IPO_PBR'] = Train_data['공모가']/(Train_data['자본총계']*1000/Train_data['상장주식수'])\n",
    "## IPO_EV/EBIDTA\n",
    "Train_data['IPO_EV/EBITDA'] = ((Train_data['공모가']*Train_data['상장주식수'])+Train_data['순부채'])/(Train_data['EBITDA2']*1000)\n",
    "\n",
    "Train_data['공모 시가총액'] = Train_data['공모가'] * Train_data['상장주식수']"
   ]
  },
  {
   "cell_type": "code",
   "execution_count": 6,
   "id": "24138ea9",
   "metadata": {},
   "outputs": [],
   "source": [
    "Train_data = MatchItem_per(Train_data,'1개월 후 PER',1,trading,stock,finance)\n",
    "Train_data = MatchItem_per(Train_data,'3개월 후 PER',3,trading,stock,finance)\n",
    "\n",
    "Train_data = MatchItem_pbr(Train_data,'1개월 후 PBR',1,trading,stock,finance)\n",
    "Train_data = MatchItem_pbr(Train_data,'3개월 후 PBR',3,trading,stock,finance)\n",
    "\n",
    "Train_data = MatchItem_ev(Train_data,'1개월 후 EV/EBITDA',1,trading,stock,finance)\n",
    "Train_data = MatchItem_ev(Train_data,'3개월 후 EV/EBITDA',3,trading,stock,finance)"
   ]
  },
  {
   "cell_type": "code",
   "execution_count": 7,
   "id": "d1646a69",
   "metadata": {},
   "outputs": [],
   "source": [
    "## 사용하는 함수만 추출\n",
    "use_col = ['상장유형','공모가','상장일','상장주식수','경쟁률','공모 시가총액','매출총이익률','영업이익률','ROE','유동비율','당좌비율','부채비율',\\\n",
    "           '이자보상배율','매출채권회전율','재고자산회전율','매출액증가율',\\\n",
    "           '영업이익증가율','IPO_PER','IPO_PBR','IPO_EV/EBITDA','1개월 후 PER','3개월 후 PER','1개월 후 PBR','3개월 후 PBR',\\\n",
    "           '1개월 후 EV/EBITDA','3개월 후 EV/EBITDA']"
   ]
  },
  {
   "cell_type": "code",
   "execution_count": 8,
   "id": "2590b066",
   "metadata": {},
   "outputs": [],
   "source": [
    "Train_data = Train_data[use_col]\n",
    "\n",
    "# Train_data.to_csv(\"Train_data_2.csv\",encoding = 'euc-kr')\n",
    "\n",
    "# Train_data = pd.read_csv(\"d:/공모전/Train_data_2.csv\")\n",
    "\n",
    "# Train_data.set_index(\"종목명\",inplace =True)"
   ]
  },
  {
   "cell_type": "markdown",
   "id": "62aa0cc9",
   "metadata": {},
   "source": [
    "## 트레이딩 변수를 독립변수로 투입\n",
    "> 비영업일에 해당하는 날짜 제외\n",
    "- MatchItem_mean = 상장일부터 해당 월까지의 평균 값\n",
    "- MatchItem_rotation = 해당 기간의 시가총액회전율"
   ]
  },
  {
   "cell_type": "code",
   "execution_count": 9,
   "id": "d0aad161",
   "metadata": {},
   "outputs": [],
   "source": [
    "dating = pd.read_csv(\"d:/공모전/IPO/IPO/Data/날짜.csv\")\n",
    "\n",
    "date = dating.columns[68:]\n",
    "\n",
    "trade = trading[date] ## 비영업일 제외한 것"
   ]
  },
  {
   "cell_type": "code",
   "execution_count": 10,
   "id": "30d53f2a",
   "metadata": {},
   "outputs": [],
   "source": [
    "test = Train_data.copy()"
   ]
  },
  {
   "cell_type": "markdown",
   "id": "0791383b",
   "metadata": {},
   "source": [
    "### 1개월 변수"
   ]
  },
  {
   "cell_type": "code",
   "execution_count": 11,
   "id": "3ef15d57",
   "metadata": {},
   "outputs": [],
   "source": [
    "test = MatchItem_mean(test,trade,'상장일','거래량회전율',\\\n",
    "                      '1개월 평균 거래량회전율',1)\n",
    "test = MatchItem_mean(test,trade,'상장일','일중변동률',\\\n",
    "                      '1개월 평균 일중변동률',1)\n",
    "test = MatchItem_mean(test,trade,'상장일','개인 매도수량 비중'\\\n",
    "                      ,'1개월 평균 개인 매도수량 비중',1)\n",
    "test = MatchItem_mean(test,trade,'상장일','개인 매수수량 비중',\\\n",
    "                      '1개월 평균 개인 매수수량 비중',1)\n",
    "\n",
    "test = MatchItem_rotation(test,trade,'상장일','거래대금',\\\n",
    "                           '시가총액','1개월 시가총액회전율',1)\n"
   ]
  },
  {
   "cell_type": "markdown",
   "id": "bf43e186",
   "metadata": {},
   "source": [
    "### 3개월 변수"
   ]
  },
  {
   "cell_type": "code",
   "execution_count": 12,
   "id": "9ea6349e",
   "metadata": {},
   "outputs": [],
   "source": [
    "test = MatchItem_mean(test,trade,'상장일','거래량회전율',\\\n",
    "                      '3개월 평균 거래량회전율',3)\n",
    "test = MatchItem_mean(test,trade,'상장일','일중변동률',\\\n",
    "                      '3개월 평균 일중변동률',3)\n",
    "test = MatchItem_mean(test,trade,'상장일','개인 매도수량 비중'\\\n",
    "                      ,'3개월 평균 개인 매도수량 비중',3)\n",
    "test = MatchItem_mean(test,trade,'상장일','개인 매수수량 비중',\\\n",
    "                      '3개월 평균 개인 매수수량 비중',3)\n",
    "\n",
    "test = MatchItem_rotation(test,trade,'상장일','거래대금',\\\n",
    "                           '시가총액','3개월 시가총액회전율',3)\n",
    "\n"
   ]
  },
  {
   "cell_type": "markdown",
   "id": "8baa0fe1",
   "metadata": {},
   "source": [
    "## 시장변수를 독립변수로 투입\n",
    "- MatchItem_marketmoney = 특정 두 기간 사이의 시장회전율\n",
    "- MatchItem_Market_1_3 = 1년전 대비 1달전의 시장지표\n",
    "- MatchItem_Market_ipo = 상장일 대비 몇개월 후의 시장지표 \n",
    "- MatchItem_interest = 상장일 기준 국고금리"
   ]
  },
  {
   "cell_type": "code",
   "execution_count": 13,
   "id": "4a6884ff",
   "metadata": {},
   "outputs": [],
   "source": [
    "market.set_index('Item Name ', inplace = True)"
   ]
  },
  {
   "cell_type": "markdown",
   "id": "42c55167",
   "metadata": {},
   "source": [
    "### 1년 전 대비 1달 전 "
   ]
  },
  {
   "cell_type": "code",
   "execution_count": 14,
   "id": "32766338",
   "metadata": {},
   "outputs": [],
   "source": [
    "test = MatchItem_marketmoney(test,market,'1년전 대비 시장 회전율')\n",
    "test = MatchItem_Market_1_3(test, market,'1년 전 대비 시장수익률' \\\n",
    "                            , '종가지수')\n",
    "test = MatchItem_Market_1_3(test , market, \\\n",
    "                            '1년 전 대비 광의통화 증감률' , '광의통화')\n",
    "test = MatchItem_Market_1_3(test , market,\\\n",
    "                            '1년 전 대비 고객예탁금 증감률' , '고객예탁금')\n"
   ]
  },
  {
   "cell_type": "markdown",
   "id": "bc422c6d",
   "metadata": {},
   "source": [
    "### 상장일 대비 1개월 후"
   ]
  },
  {
   "cell_type": "code",
   "execution_count": 15,
   "id": "4c6a7fad",
   "metadata": {},
   "outputs": [],
   "source": [
    "test = MatchItem_marketmoney_ipo(test,market,'1달 후 시장 회전율',1)\n",
    "test = MatchItem_Market_ipo(test, market,'1달 후  시장수익률' \\\n",
    "                            , '종가지수',1)\n",
    "test = MatchItem_Market_ipo(test , market, \\\n",
    "                            '1달 후 광의통화 증감률' , '광의통화',1)\n",
    "test = MatchItem_Market_ipo(test , market,\\\n",
    "                            '1달 후 고객예탁금 증감률' , '고객예탁금',1)\n"
   ]
  },
  {
   "cell_type": "markdown",
   "id": "4cd55df3",
   "metadata": {},
   "source": [
    "### 상장일 대비 3개월 후"
   ]
  },
  {
   "cell_type": "code",
   "execution_count": 16,
   "id": "4bf4b8cc",
   "metadata": {},
   "outputs": [],
   "source": [
    "test = MatchItem_marketmoney_ipo(test,market,'3달 후 시장 회전율',3)\n",
    "test = MatchItem_Market_ipo(test, market,'3달 후  시장수익률' \\\n",
    "                            , '종가지수',3)\n",
    "test = MatchItem_Market_ipo(test , market, \\\n",
    "                            '3달 후 광의통화 증감률' , '광의통화',3)\n",
    "test = MatchItem_Market_ipo(test , market,\\\n",
    "                            '3달 후 고객예탁금 증감률' , '고객예탁금',3)\n",
    "test = MatchItem_interest(test, market,'상장일 기준 국고3년시장금리' ,\\\n",
    "                          '국고3년시장금리')"
   ]
  },
  {
   "cell_type": "markdown",
   "id": "6bac0c9e",
   "metadata": {},
   "source": [
    "## 종속변수 계산\n",
    "- return_rate = 공모가 대비 1,3,6개월 수익률 계산\n",
    "- rate_month_to_month = 1_3 수익률 , 3_6 수익률\n",
    "- return_rate_new = 종가 대비 1,3,6개월 수익률 계산"
   ]
  },
  {
   "cell_type": "code",
   "execution_count": 17,
   "id": "29efbc50",
   "metadata": {
    "scrolled": false
   },
   "outputs": [],
   "source": [
    "test = return_rate(test,trading,'공모가 대비 1개월 수익률',1)\n",
    "test = return_rate(test,trading,'공모가 대비 3개월 수익률',3)\n",
    "test = return_rate(test,trading,'공모가 대비 6개월 수익률',6)\n",
    "test = rate_month_to_month(test, trading, '1_3_수익률', 3, 1)\n",
    "test = rate_month_to_month(test, trading, '3_6_수익률', 6, 3)\n",
    "test = test.rename(columns = {'1달 후  시장수익률': '1달 후 시장수익률','3달 후  시장수익률':'3달 후 시장수익률'})"
   ]
  },
  {
   "cell_type": "code",
   "execution_count": 18,
   "id": "5b1f2f43",
   "metadata": {},
   "outputs": [],
   "source": [
    "# test.to_csv(\"KQ_ALL.csv\" , encoding = 'euc-kr')"
   ]
  },
  {
   "cell_type": "markdown",
   "id": "d201035d",
   "metadata": {},
   "source": [
    "## 종가 관련 변수 추가"
   ]
  },
  {
   "cell_type": "code",
   "execution_count": 22,
   "id": "1157258c",
   "metadata": {},
   "outputs": [],
   "source": [
    "# test = pd.read_csv(\"d:/공모전/KQ_ALL.csv\")\n",
    "\n",
    "# # test.set_index(\"종목명\",inplace =True)\n",
    "\n",
    "test = MatchItem_endper(test,'종가_PER',trading,stock,finance)\n",
    "test = MatchItem_endpbr(test,'종가_PBR',trading,stock,finance)\n",
    "test = MatchItem_endev(test,'종가_EV/EBITDA',trading,stock,finance)\n",
    "\n",
    "test = return_rate_new(test,trading,'종가 대비 1개월 수익률',1)\n",
    "\n",
    "test = return_rate_new(test,trading,'종가 대비 3개월 수익률',3)\n",
    "test = return_rate_new(test,trading,'종가 대비 6개월 수익률',6)\n"
   ]
  },
  {
   "cell_type": "code",
   "execution_count": 24,
   "id": "ca4515c2",
   "metadata": {},
   "outputs": [],
   "source": [
    "# test = pd.read_csv(\"D:\\공모전\\IPO\\IPO\\CleanData/KQ_all.csv\")\n",
    "\n",
    "# test.set_index(\"종목명\",inplace =True)\n",
    "\n",
    "test['종가_PER'] = test['종가_PER']\n",
    "test['종가_PBR'] = test['종가_PBR']\n",
    "test['종가_EV/EBITDA'] = test['종가_EV/EBITDA']\n",
    "test['종가 대비 1개월 수익률'] = test['종가 대비 1개월 수익률']\n",
    "test['종가 대비 3개월 수익률'] = test['종가 대비 3개월 수익률']\n",
    "test['종가 대비 6개월 수익률'] = test['종가 대비 6개월 수익률']\n",
    "\n",
    "# test.to_csv(\"KQ_ALL_2.csv\", encoding = 'euc-kr')"
   ]
  }
 ],
 "metadata": {
  "kernelspec": {
   "display_name": "Python 3",
   "language": "python",
   "name": "python3"
  },
  "language_info": {
   "codemirror_mode": {
    "name": "ipython",
    "version": 3
   },
   "file_extension": ".py",
   "mimetype": "text/x-python",
   "name": "python",
   "nbconvert_exporter": "python",
   "pygments_lexer": "ipython3",
   "version": "3.6.10"
  },
  "toc": {
   "base_numbering": 1,
   "nav_menu": {},
   "number_sections": true,
   "sideBar": true,
   "skip_h1_title": false,
   "title_cell": "Table of Contents",
   "title_sidebar": "Contents",
   "toc_cell": false,
   "toc_position": {},
   "toc_section_display": true,
   "toc_window_display": false
  }
 },
 "nbformat": 4,
 "nbformat_minor": 5
}
